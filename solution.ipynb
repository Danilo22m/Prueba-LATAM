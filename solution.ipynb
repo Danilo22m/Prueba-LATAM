{
 "cells": [
  {
   "cell_type": "code",
   "execution_count": 2,
   "metadata": {},
   "outputs": [],
   "source": [
    "import pandas as pd \n",
    "import numpy as np"
   ]
  },
  {
   "cell_type": "code",
   "execution_count": 3,
   "metadata": {},
   "outputs": [
    {
     "name": "stderr",
     "output_type": "stream",
     "text": [
      "C:\\Users\\Usuario\\AppData\\Local\\Temp\\ipykernel_8144\\3935152703.py:1: DtypeWarning: Columns (1,6) have mixed types. Specify dtype option on import or set low_memory=False.\n",
      "  base = pd.read_csv('dataset_SCL.csv')\n"
     ]
    },
    {
     "data": {
      "text/html": [
       "<div>\n",
       "<style scoped>\n",
       "    .dataframe tbody tr th:only-of-type {\n",
       "        vertical-align: middle;\n",
       "    }\n",
       "\n",
       "    .dataframe tbody tr th {\n",
       "        vertical-align: top;\n",
       "    }\n",
       "\n",
       "    .dataframe thead th {\n",
       "        text-align: right;\n",
       "    }\n",
       "</style>\n",
       "<table border=\"1\" class=\"dataframe\">\n",
       "  <thead>\n",
       "    <tr style=\"text-align: right;\">\n",
       "      <th></th>\n",
       "      <th>Fecha-I</th>\n",
       "      <th>Vlo-I</th>\n",
       "      <th>Ori-I</th>\n",
       "      <th>Des-I</th>\n",
       "      <th>Emp-I</th>\n",
       "      <th>Fecha-O</th>\n",
       "      <th>Vlo-O</th>\n",
       "      <th>Ori-O</th>\n",
       "      <th>Des-O</th>\n",
       "      <th>Emp-O</th>\n",
       "      <th>DIA</th>\n",
       "      <th>MES</th>\n",
       "      <th>AÑO</th>\n",
       "      <th>DIANOM</th>\n",
       "      <th>TIPOVUELO</th>\n",
       "      <th>OPERA</th>\n",
       "      <th>SIGLAORI</th>\n",
       "      <th>SIGLADES</th>\n",
       "    </tr>\n",
       "  </thead>\n",
       "  <tbody>\n",
       "    <tr>\n",
       "      <th>0</th>\n",
       "      <td>2017-01-01 23:30:00</td>\n",
       "      <td>226</td>\n",
       "      <td>SCEL</td>\n",
       "      <td>KMIA</td>\n",
       "      <td>AAL</td>\n",
       "      <td>2017-01-01 23:33:00</td>\n",
       "      <td>226</td>\n",
       "      <td>SCEL</td>\n",
       "      <td>KMIA</td>\n",
       "      <td>AAL</td>\n",
       "      <td>1.0</td>\n",
       "      <td>1.0</td>\n",
       "      <td>2017.0</td>\n",
       "      <td>Domingo</td>\n",
       "      <td>I</td>\n",
       "      <td>American Airlines</td>\n",
       "      <td>Santiago</td>\n",
       "      <td>Miami</td>\n",
       "    </tr>\n",
       "    <tr>\n",
       "      <th>1</th>\n",
       "      <td>2017-01-02 23:30:00</td>\n",
       "      <td>226</td>\n",
       "      <td>SCEL</td>\n",
       "      <td>KMIA</td>\n",
       "      <td>AAL</td>\n",
       "      <td>2017-01-02 23:39:00</td>\n",
       "      <td>226</td>\n",
       "      <td>SCEL</td>\n",
       "      <td>KMIA</td>\n",
       "      <td>AAL</td>\n",
       "      <td>2.0</td>\n",
       "      <td>1.0</td>\n",
       "      <td>2017.0</td>\n",
       "      <td>Lunes</td>\n",
       "      <td>I</td>\n",
       "      <td>American Airlines</td>\n",
       "      <td>Santiago</td>\n",
       "      <td>Miami</td>\n",
       "    </tr>\n",
       "    <tr>\n",
       "      <th>2</th>\n",
       "      <td>2017-01-03 23:30:00</td>\n",
       "      <td>226</td>\n",
       "      <td>SCEL</td>\n",
       "      <td>KMIA</td>\n",
       "      <td>AAL</td>\n",
       "      <td>2017-01-03 23:39:00</td>\n",
       "      <td>226</td>\n",
       "      <td>SCEL</td>\n",
       "      <td>KMIA</td>\n",
       "      <td>AAL</td>\n",
       "      <td>3.0</td>\n",
       "      <td>1.0</td>\n",
       "      <td>2017.0</td>\n",
       "      <td>Martes</td>\n",
       "      <td>I</td>\n",
       "      <td>American Airlines</td>\n",
       "      <td>Santiago</td>\n",
       "      <td>Miami</td>\n",
       "    </tr>\n",
       "    <tr>\n",
       "      <th>3</th>\n",
       "      <td>2017-01-04 23:30:00</td>\n",
       "      <td>226</td>\n",
       "      <td>SCEL</td>\n",
       "      <td>KMIA</td>\n",
       "      <td>AAL</td>\n",
       "      <td>2017-01-04 23:33:00</td>\n",
       "      <td>226</td>\n",
       "      <td>SCEL</td>\n",
       "      <td>KMIA</td>\n",
       "      <td>AAL</td>\n",
       "      <td>4.0</td>\n",
       "      <td>1.0</td>\n",
       "      <td>2017.0</td>\n",
       "      <td>Miercoles</td>\n",
       "      <td>I</td>\n",
       "      <td>American Airlines</td>\n",
       "      <td>Santiago</td>\n",
       "      <td>Miami</td>\n",
       "    </tr>\n",
       "    <tr>\n",
       "      <th>4</th>\n",
       "      <td>2017-01-05 23:30:00</td>\n",
       "      <td>226</td>\n",
       "      <td>SCEL</td>\n",
       "      <td>KMIA</td>\n",
       "      <td>AAL</td>\n",
       "      <td>2017-01-05 23:28:00</td>\n",
       "      <td>226</td>\n",
       "      <td>SCEL</td>\n",
       "      <td>KMIA</td>\n",
       "      <td>AAL</td>\n",
       "      <td>5.0</td>\n",
       "      <td>1.0</td>\n",
       "      <td>2017.0</td>\n",
       "      <td>Jueves</td>\n",
       "      <td>I</td>\n",
       "      <td>American Airlines</td>\n",
       "      <td>Santiago</td>\n",
       "      <td>Miami</td>\n",
       "    </tr>\n",
       "  </tbody>\n",
       "</table>\n",
       "</div>"
      ],
      "text/plain": [
       "               Fecha-I Vlo-I Ori-I Des-I Emp-I              Fecha-O Vlo-O  \\\n",
       "0  2017-01-01 23:30:00   226  SCEL  KMIA   AAL  2017-01-01 23:33:00   226   \n",
       "1  2017-01-02 23:30:00   226  SCEL  KMIA   AAL  2017-01-02 23:39:00   226   \n",
       "2  2017-01-03 23:30:00   226  SCEL  KMIA   AAL  2017-01-03 23:39:00   226   \n",
       "3  2017-01-04 23:30:00   226  SCEL  KMIA   AAL  2017-01-04 23:33:00   226   \n",
       "4  2017-01-05 23:30:00   226  SCEL  KMIA   AAL  2017-01-05 23:28:00   226   \n",
       "\n",
       "  Ori-O Des-O Emp-O  DIA  MES     AÑO     DIANOM TIPOVUELO              OPERA  \\\n",
       "0  SCEL  KMIA   AAL  1.0  1.0  2017.0    Domingo         I  American Airlines   \n",
       "1  SCEL  KMIA   AAL  2.0  1.0  2017.0      Lunes         I  American Airlines   \n",
       "2  SCEL  KMIA   AAL  3.0  1.0  2017.0     Martes         I  American Airlines   \n",
       "3  SCEL  KMIA   AAL  4.0  1.0  2017.0  Miercoles         I  American Airlines   \n",
       "4  SCEL  KMIA   AAL  5.0  1.0  2017.0     Jueves         I  American Airlines   \n",
       "\n",
       "   SIGLAORI SIGLADES  \n",
       "0  Santiago    Miami  \n",
       "1  Santiago    Miami  \n",
       "2  Santiago    Miami  \n",
       "3  Santiago    Miami  \n",
       "4  Santiago    Miami  "
      ]
     },
     "execution_count": 3,
     "metadata": {},
     "output_type": "execute_result"
    }
   ],
   "source": [
    "base = pd.read_csv('dataset_SCL.csv')\n",
    "base.head()"
   ]
  },
  {
   "cell_type": "markdown",
   "metadata": {},
   "source": [
    "Analisis Exploratorio "
   ]
  },
  {
   "cell_type": "code",
   "execution_count": 102,
   "metadata": {},
   "outputs": [
    {
     "data": {
      "text/plain": [
       "(68206, 18)"
      ]
     },
     "execution_count": 102,
     "metadata": {},
     "output_type": "execute_result"
    }
   ],
   "source": [
    "base.shape"
   ]
  },
  {
   "cell_type": "code",
   "execution_count": 17,
   "metadata": {},
   "outputs": [
    {
     "data": {
      "text/plain": [
       "AÑO\n",
       "2017.0    68165\n",
       "2018.0        2\n",
       "dtype: int64"
      ]
     },
     "execution_count": 17,
     "metadata": {},
     "output_type": "execute_result"
    }
   ],
   "source": [
    "anno=base.groupby('AÑO').size()\n",
    "anno"
   ]
  },
  {
   "cell_type": "markdown",
   "metadata": {},
   "source": [
    "Para el año 2017 se realizaron un total de 68.165 vuelos y solo para el año 2018 se realizaron 2 vuelos"
   ]
  },
  {
   "cell_type": "code",
   "execution_count": 19,
   "metadata": {},
   "outputs": [
    {
     "data": {
      "text/html": [
       "<div>\n",
       "<style scoped>\n",
       "    .dataframe tbody tr th:only-of-type {\n",
       "        vertical-align: middle;\n",
       "    }\n",
       "\n",
       "    .dataframe tbody tr th {\n",
       "        vertical-align: top;\n",
       "    }\n",
       "\n",
       "    .dataframe thead th {\n",
       "        text-align: right;\n",
       "    }\n",
       "</style>\n",
       "<table border=\"1\" class=\"dataframe\">\n",
       "  <thead>\n",
       "    <tr style=\"text-align: right;\">\n",
       "      <th>AÑO</th>\n",
       "      <th>2017.0</th>\n",
       "      <th>2018.0</th>\n",
       "    </tr>\n",
       "    <tr>\n",
       "      <th>MES</th>\n",
       "      <th></th>\n",
       "      <th></th>\n",
       "    </tr>\n",
       "  </thead>\n",
       "  <tbody>\n",
       "    <tr>\n",
       "      <th>1.0</th>\n",
       "      <td>6106.0</td>\n",
       "      <td>2.0</td>\n",
       "    </tr>\n",
       "    <tr>\n",
       "      <th>2.0</th>\n",
       "      <td>5561.0</td>\n",
       "      <td>NaN</td>\n",
       "    </tr>\n",
       "    <tr>\n",
       "      <th>3.0</th>\n",
       "      <td>5480.0</td>\n",
       "      <td>NaN</td>\n",
       "    </tr>\n",
       "    <tr>\n",
       "      <th>4.0</th>\n",
       "      <td>5020.0</td>\n",
       "      <td>NaN</td>\n",
       "    </tr>\n",
       "    <tr>\n",
       "      <th>5.0</th>\n",
       "      <td>5240.0</td>\n",
       "      <td>NaN</td>\n",
       "    </tr>\n",
       "    <tr>\n",
       "      <th>6.0</th>\n",
       "      <td>4981.0</td>\n",
       "      <td>NaN</td>\n",
       "    </tr>\n",
       "    <tr>\n",
       "      <th>7.0</th>\n",
       "      <td>5992.0</td>\n",
       "      <td>NaN</td>\n",
       "    </tr>\n",
       "    <tr>\n",
       "      <th>8.0</th>\n",
       "      <td>5743.0</td>\n",
       "      <td>NaN</td>\n",
       "    </tr>\n",
       "    <tr>\n",
       "      <th>9.0</th>\n",
       "      <td>5610.0</td>\n",
       "      <td>NaN</td>\n",
       "    </tr>\n",
       "    <tr>\n",
       "      <th>10.0</th>\n",
       "      <td>6020.0</td>\n",
       "      <td>NaN</td>\n",
       "    </tr>\n",
       "    <tr>\n",
       "      <th>11.0</th>\n",
       "      <td>6068.0</td>\n",
       "      <td>NaN</td>\n",
       "    </tr>\n",
       "    <tr>\n",
       "      <th>12.0</th>\n",
       "      <td>6344.0</td>\n",
       "      <td>NaN</td>\n",
       "    </tr>\n",
       "  </tbody>\n",
       "</table>\n",
       "</div>"
      ],
      "text/plain": [
       "AÑO   2017.0  2018.0\n",
       "MES                 \n",
       "1.0   6106.0     2.0\n",
       "2.0   5561.0     NaN\n",
       "3.0   5480.0     NaN\n",
       "4.0   5020.0     NaN\n",
       "5.0   5240.0     NaN\n",
       "6.0   4981.0     NaN\n",
       "7.0   5992.0     NaN\n",
       "8.0   5743.0     NaN\n",
       "9.0   5610.0     NaN\n",
       "10.0  6020.0     NaN\n",
       "11.0  6068.0     NaN\n",
       "12.0  6344.0     NaN"
      ]
     },
     "execution_count": 19,
     "metadata": {},
     "output_type": "execute_result"
    }
   ],
   "source": [
    "anno_mes=base.groupby(['AÑO', 'MES']).size()\n",
    "anno_mes=anno_mes.reset_index()\n",
    "anno_mes=pd.pivot_table(anno_mes, columns=\"AÑO\", index=\"MES\", values=0)\n",
    "anno_mes "
   ]
  },
  {
   "cell_type": "code",
   "execution_count": 49,
   "metadata": {},
   "outputs": [
    {
     "data": {
      "text/plain": [
       "0.09306555958161573"
      ]
     },
     "execution_count": 49,
     "metadata": {},
     "output_type": "execute_result"
    }
   ],
   "source": [
    "6344/68167"
   ]
  },
  {
   "cell_type": "markdown",
   "metadata": {},
   "source": [
    "Como podemos observar aproximadamente se realizan minimo 5 mil vuelos en cada uno de los meses del año 2017 y solo se realizaron dos vuelos en el mes de enero de 2018. El mes donde se presentan mas vuelos es en Diciembre (9.3%)"
   ]
  },
  {
   "cell_type": "code",
   "execution_count": 22,
   "metadata": {},
   "outputs": [
    {
     "data": {
      "text/plain": [
       "DIANOM\n",
       "Domingo       9796\n",
       "Jueves       10237\n",
       "Lunes        10130\n",
       "Martes        9652\n",
       "Miercoles     9721\n",
       "Sabado        8352\n",
       "Viernes      10279\n",
       "dtype: int64"
      ]
     },
     "execution_count": 22,
     "metadata": {},
     "output_type": "execute_result"
    }
   ],
   "source": [
    "dia_semana=base.groupby('DIANOM').size()\n",
    "dia_semana"
   ]
  },
  {
   "cell_type": "code",
   "execution_count": 23,
   "metadata": {},
   "outputs": [
    {
     "data": {
      "text/plain": [
       "SIGLAORI\n",
       "Santiago    68167\n",
       "dtype: int64"
      ]
     },
     "execution_count": 23,
     "metadata": {},
     "output_type": "execute_result"
    }
   ],
   "source": [
    "ciudad_origen=base.groupby('SIGLAORI').size()\n",
    "ciudad_origen"
   ]
  },
  {
   "cell_type": "markdown",
   "metadata": {},
   "source": [
    "Todos los vuelos tienen como ciudad de origen Santiago"
   ]
  },
  {
   "cell_type": "code",
   "execution_count": 39,
   "metadata": {},
   "outputs": [
    {
     "data": {
      "text/plain": [
       "SIGLADES\n",
       "Buenos Aires        6335\n",
       "Antofagasta         5786\n",
       "Lima                5270\n",
       "Calama              5146\n",
       "Puerto Montt        4357\n",
       "Concepcion          3993\n",
       "Iquique             3747\n",
       "Sao Paulo           3569\n",
       "Temuco              2589\n",
       "Arica               2436\n",
       "La Serena           2410\n",
       "Punta Arenas        2105\n",
       "Ciudad de Panama    1850\n",
       "Copiapo             1780\n",
       "Mendoza             1625\n",
       "Bogota              1604\n",
       "Rio de Janeiro      1435\n",
       "Montevideo          1066\n",
       "Cordoba             1023\n",
       "Miami               1016\n",
       "Madrid               894\n",
       "Balmaceda            839\n",
       "Valdivia             753\n",
       "Ciudad de Mexico     700\n",
       "Isla de Pascua       452\n",
       "Guayaquil            422\n",
       "Nueva York           382\n",
       "Auckland N.Z.        361\n",
       "Paris                359\n",
       "Atlanta              358\n",
       "Dallas               357\n",
       "Houston              334\n",
       "Toronto              283\n",
       "Roma                 259\n",
       "Osorno               259\n",
       "Castro (Chiloe)      235\n",
       "Asuncion             232\n",
       "La Paz               209\n",
       "Londres              205\n",
       "Sydney               194\n",
       "Florianapolis        162\n",
       "Los Angeles          155\n",
       "Rosario              136\n",
       "Santa Cruz           120\n",
       "Puerto Natales        79\n",
       "Cancun                63\n",
       "Punta Cana            54\n",
       "Melbourne             39\n",
       "Tucuman               38\n",
       "Neuquen               37\n",
       "Orlando               34\n",
       "Ushuia                 6\n",
       "Punta del Este         6\n",
       "Quito                  2\n",
       "Bariloche              2\n",
       "Cataratas Iguacu       2\n",
       "Puerto Stanley         1\n",
       "Cochabamba             1\n",
       "Washington             1\n",
       "dtype: int64"
      ]
     },
     "execution_count": 39,
     "metadata": {},
     "output_type": "execute_result"
    }
   ],
   "source": [
    "ciudad_destino=base.groupby('SIGLADES').size().sort_values(ascending=False)\n",
    "ciudad_destino"
   ]
  },
  {
   "cell_type": "code",
   "execution_count": 37,
   "metadata": {},
   "outputs": [
    {
     "data": {
      "text/plain": [
       "33.0614520222395"
      ]
     },
     "execution_count": 37,
     "metadata": {},
     "output_type": "execute_result"
    }
   ],
   "source": [
    "((6335+5786+5270+5146)/68167)*100"
   ]
  },
  {
   "cell_type": "markdown",
   "metadata": {},
   "source": [
    "Se osberva que la mayor cantidad de vuelos tienen como destino Buenos Aires, Antofagasta, Lima y Calama (33% del total de los vuelos corresponde a estas 4 ciudades de destino)"
   ]
  },
  {
   "cell_type": "code",
   "execution_count": 38,
   "metadata": {},
   "outputs": [
    {
     "data": {
      "text/plain": [
       "OPERA\n",
       "Plus Ultra Lineas Aereas       49\n",
       "Austral                        74\n",
       "Lacsa                          92\n",
       "Qantas Airways                195\n",
       "British Airways               205\n",
       "K.L.M.                        251\n",
       "Alitalia                      259\n",
       "Oceanair Linhas Aereas        278\n",
       "United Airlines               335\n",
       "Aeromexico                    351\n",
       "Air France                    358\n",
       "Delta Air                     358\n",
       "Iberia                        362\n",
       "Air Canada                    565\n",
       "American Airlines             757\n",
       "Gol Trans                     806\n",
       "JetSmart SPA                 1095\n",
       "Avianca                      1152\n",
       "Latin American Wings         1674\n",
       "Copa Air                     1850\n",
       "Aerolineas Argentinas        1949\n",
       "Sky Airline                 14298\n",
       "Grupo LATAM                 40854\n",
       "dtype: int64"
      ]
     },
     "execution_count": 38,
     "metadata": {},
     "output_type": "execute_result"
    }
   ],
   "source": [
    "aerolinea=base.groupby('OPERA').size().sort_values()\n",
    "aerolinea"
   ]
  },
  {
   "cell_type": "code",
   "execution_count": 48,
   "metadata": {},
   "outputs": [
    {
     "name": "stdout",
     "output_type": "stream",
     "text": [
      "0.5993222527029207\n",
      "0.20974958557659865\n"
     ]
    }
   ],
   "source": [
    "print(40854/68167)\n",
    "print(14298/68167)"
   ]
  },
  {
   "cell_type": "markdown",
   "metadata": {},
   "source": [
    "se observa que la aerolinea con mas vuelos es el Grupo LATAM con un 59.9% del total de los vuelos y la aerolinea Sky Airline tiene un 20.9% del total de los vuelos"
   ]
  },
  {
   "cell_type": "code",
   "execution_count": 40,
   "metadata": {},
   "outputs": [
    {
     "data": {
      "text/plain": [
       "TIPOVUELO\n",
       "I    31201\n",
       "N    36966\n",
       "dtype: int64"
      ]
     },
     "execution_count": 40,
     "metadata": {},
     "output_type": "execute_result"
    }
   ],
   "source": [
    "TIPOVUELO=base.groupby('TIPOVUELO').size().sort_values()\n",
    "TIPOVUELO"
   ]
  },
  {
   "cell_type": "code",
   "execution_count": 45,
   "metadata": {},
   "outputs": [
    {
     "data": {
      "text/plain": [
       "0.5422858567928763"
      ]
     },
     "execution_count": 45,
     "metadata": {},
     "output_type": "execute_result"
    }
   ],
   "source": [
    "36966/68167"
   ]
  },
  {
   "cell_type": "markdown",
   "metadata": {},
   "source": [
    "Vemos que el 54.2% de los vuelos son Nacionales y el 45.8% son vuelos internacionales "
   ]
  },
  {
   "cell_type": "code",
   "execution_count": 44,
   "metadata": {},
   "outputs": [
    {
     "data": {
      "image/png": "[encoded data removed]",
      "text/plain": [
       "<Figure size 432x288 with 1 Axes>"
      ]
     },
     "metadata": {
      "needs_background": "light"
     },
     "output_type": "display_data"
    }
   ],
   "source": [
    "plt.hist(base['DIA'])\n",
    "plt.show()"
   ]
  },
  {
   "cell_type": "code",
   "execution_count": 43,
   "metadata": {},
   "outputs": [
    {
     "data": {
      "text/plain": [
       "DIA\n",
       "1.0     2207\n",
       "2.0     2222\n",
       "3.0     2269\n",
       "4.0     2215\n",
       "5.0     2239\n",
       "6.0     2273\n",
       "7.0     2263\n",
       "8.0     2211\n",
       "9.0     2226\n",
       "10.0    2281\n",
       "11.0    2237\n",
       "12.0    2281\n",
       "13.0    2271\n",
       "14.0    2219\n",
       "15.0    2238\n",
       "16.0    2267\n",
       "17.0    2226\n",
       "18.0    2160\n",
       "19.0    2238\n",
       "20.0    2289\n",
       "21.0    2265\n",
       "22.0    2271\n",
       "23.0    2259\n",
       "24.0    2230\n",
       "25.0    2179\n",
       "26.0    2265\n",
       "27.0    2285\n",
       "28.0    2230\n",
       "29.0    2043\n",
       "30.0    2019\n",
       "31.0    1289\n",
       "dtype: int64"
      ]
     },
     "execution_count": 43,
     "metadata": {},
     "output_type": "execute_result"
    }
   ],
   "source": [
    "DIA=base.groupby('DIA').size()\n",
    "DIA"
   ]
  },
  {
   "cell_type": "markdown",
   "metadata": {},
   "source": [
    "Observamos que en todos los dias del mes se realizan minimo 2 mil vuelo y no se presentan valores atipicos en este comportamiento"
   ]
  },
  {
   "cell_type": "markdown",
   "metadata": {},
   "source": [
    "Creacion Nuevas Variables"
   ]
  },
  {
   "cell_type": "code",
   "execution_count": 4,
   "metadata": {},
   "outputs": [
    {
     "data": {
      "text/plain": [
       "Fecha-I       object\n",
       "Vlo-I         object\n",
       "Ori-I         object\n",
       "Des-I         object\n",
       "Emp-I         object\n",
       "Fecha-O       object\n",
       "Vlo-O         object\n",
       "Ori-O         object\n",
       "Des-O         object\n",
       "Emp-O         object\n",
       "DIA          float64\n",
       "MES          float64\n",
       "AÑO          float64\n",
       "DIANOM        object\n",
       "TIPOVUELO     object\n",
       "OPERA         object\n",
       "SIGLAORI      object\n",
       "SIGLADES      object\n",
       "dtype: object"
      ]
     },
     "execution_count": 4,
     "metadata": {},
     "output_type": "execute_result"
    }
   ],
   "source": [
    "base.dtypes"
   ]
  },
  {
   "cell_type": "code",
   "execution_count": 5,
   "metadata": {},
   "outputs": [],
   "source": [
    "base.dropna(inplace = True)\n",
    "base[\"Fecha-I\"]= base[\"Fecha-I\"].str.split(\",\",  expand = True)"
   ]
  },
  {
   "cell_type": "code",
   "execution_count": 6,
   "metadata": {},
   "outputs": [],
   "source": [
    "base[\"Fecha-I\"]= pd.to_datetime(base[\"Fecha-I\"], format='%Y-%m-%d %H:%M')\n",
    "base[\"Fecha-O\"]= pd.to_datetime(base[\"Fecha-O\"], format='%Y-%m-%d %H:%M')"
   ]
  },
  {
   "cell_type": "markdown",
   "metadata": {},
   "source": [
    "Creacion Variable dif_min y atraso_15"
   ]
  },
  {
   "cell_type": "code",
   "execution_count": 7,
   "metadata": {},
   "outputs": [],
   "source": [
    "\n",
    "base[\"dif_min\"]=(base[\"Fecha-O\"]-base[\"Fecha-I\"]).astype('timedelta64[m]')\n",
    "base[\"atraso_15\"] = pd.Series(np.where((base['dif_min'] >= 15) , 1, 0))\n"
   ]
  },
  {
   "cell_type": "markdown",
   "metadata": {},
   "source": [
    "Creacion Variable Temporada Alta"
   ]
  },
  {
   "cell_type": "code",
   "execution_count": 13,
   "metadata": {},
   "outputs": [],
   "source": [
    "base[\"temporada_alta\"] =  pd.Series(np.where((base['Fecha-I'] >= \"2017-12-15\") & (base['Fecha-I'] <= \"2017-03-03\") |\\\n",
    "                                             (base['Fecha-I'] >= \"2017-07-15\") & (base['Fecha-I'] <= \"2017-07-31\") |\\\n",
    "                                             (base['Fecha-I'] >= \"2017-09-11\") & (base['Fecha-I'] <= \"2017-09-30\"), 1, 0))"
   ]
  },
  {
   "cell_type": "markdown",
   "metadata": {},
   "source": [
    "Creacion Variable Periodo dia"
   ]
  },
  {
   "cell_type": "code",
   "execution_count": 16,
   "metadata": {},
   "outputs": [],
   "source": [
    "base[\"periodo_dia\"] = pd.Series(np.where((base[\"Fecha-I\"].dt.hour.astype(int) >= 5) &  (base[\"Fecha-I\"].dt.hour.astype(int) < 12), \"mañana\",\n",
    "                                np.where((base[\"Fecha-I\"].dt.hour.astype(int) >= 12) & (base[\"Fecha-I\"].dt.hour.astype(int) < 19), \"tarde\",\"noche\")))"
   ]
  },
  {
   "cell_type": "markdown",
   "metadata": {},
   "source": [
    "Analisis tasa de atraso con variables "
   ]
  }
 ],
 "metadata": {
  "kernelspec": {
   "display_name": "Python 3.9.12 ('base')",
   "language": "python",
   "name": "python3"
  },
  "language_info": {
   "codemirror_mode": {
    "name": "ipython",
    "version": 3
   },
   "file_extension": ".py",
   "mimetype": "text/x-python",
   "name": "python",
   "nbconvert_exporter": "python",
   "pygments_lexer": "ipython3",
   "version": "3.9.12"
  },
  "orig_nbformat": 4,
  "vscode": {
   "interpreter": {
    "hash": "e06ff7da33dc9620448857a90ad8b5f428f0d573d205a934d2841c8aee45ea32"
   }
  }
 },
 "nbformat": 4,
 "nbformat_minor": 2
}
