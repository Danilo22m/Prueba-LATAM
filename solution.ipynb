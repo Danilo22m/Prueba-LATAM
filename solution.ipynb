{
 "cells": [
  {
   "cell_type": "code",
   "execution_count": 1,
   "metadata": {},
   "outputs": [],
   "source": [
    "import pandas as pd \n",
    "import numpy as np\n",
    "from matplotlib import pyplot"
   ]
  },
  {
   "cell_type": "code",
   "execution_count": 3,
   "metadata": {},
   "outputs": [
    {
     "name": "stderr",
     "output_type": "stream",
     "text": [
      "C:\\Users\\Usuario\\AppData\\Local\\Temp\\ipykernel_3128\\3935152703.py:1: DtypeWarning: Columns (1,6) have mixed types. Specify dtype option on import or set low_memory=False.\n",
      "  base = pd.read_csv('dataset_SCL.csv')\n"
     ]
    },
    {
     "data": {
      "text/html": [
       "<div>\n",
       "<style scoped>\n",
       "    .dataframe tbody tr th:only-of-type {\n",
       "        vertical-align: middle;\n",
       "    }\n",
       "\n",
       "    .dataframe tbody tr th {\n",
       "        vertical-align: top;\n",
       "    }\n",
       "\n",
       "    .dataframe thead th {\n",
       "        text-align: right;\n",
       "    }\n",
       "</style>\n",
       "<table border=\"1\" class=\"dataframe\">\n",
       "  <thead>\n",
       "    <tr style=\"text-align: right;\">\n",
       "      <th></th>\n",
       "      <th>Fecha-I</th>\n",
       "      <th>Vlo-I</th>\n",
       "      <th>Ori-I</th>\n",
       "      <th>Des-I</th>\n",
       "      <th>Emp-I</th>\n",
       "      <th>Fecha-O</th>\n",
       "      <th>Vlo-O</th>\n",
       "      <th>Ori-O</th>\n",
       "      <th>Des-O</th>\n",
       "      <th>Emp-O</th>\n",
       "      <th>DIA</th>\n",
       "      <th>MES</th>\n",
       "      <th>AÑO</th>\n",
       "      <th>DIANOM</th>\n",
       "      <th>TIPOVUELO</th>\n",
       "      <th>OPERA</th>\n",
       "      <th>SIGLAORI</th>\n",
       "      <th>SIGLADES</th>\n",
       "    </tr>\n",
       "  </thead>\n",
       "  <tbody>\n",
       "    <tr>\n",
       "      <th>0</th>\n",
       "      <td>2017-01-01 23:30:00</td>\n",
       "      <td>226</td>\n",
       "      <td>SCEL</td>\n",
       "      <td>KMIA</td>\n",
       "      <td>AAL</td>\n",
       "      <td>2017-01-01 23:33:00</td>\n",
       "      <td>226</td>\n",
       "      <td>SCEL</td>\n",
       "      <td>KMIA</td>\n",
       "      <td>AAL</td>\n",
       "      <td>1.0</td>\n",
       "      <td>1.0</td>\n",
       "      <td>2017.0</td>\n",
       "      <td>Domingo</td>\n",
       "      <td>I</td>\n",
       "      <td>American Airlines</td>\n",
       "      <td>Santiago</td>\n",
       "      <td>Miami</td>\n",
       "    </tr>\n",
       "    <tr>\n",
       "      <th>1</th>\n",
       "      <td>2017-01-02 23:30:00</td>\n",
       "      <td>226</td>\n",
       "      <td>SCEL</td>\n",
       "      <td>KMIA</td>\n",
       "      <td>AAL</td>\n",
       "      <td>2017-01-02 23:39:00</td>\n",
       "      <td>226</td>\n",
       "      <td>SCEL</td>\n",
       "      <td>KMIA</td>\n",
       "      <td>AAL</td>\n",
       "      <td>2.0</td>\n",
       "      <td>1.0</td>\n",
       "      <td>2017.0</td>\n",
       "      <td>Lunes</td>\n",
       "      <td>I</td>\n",
       "      <td>American Airlines</td>\n",
       "      <td>Santiago</td>\n",
       "      <td>Miami</td>\n",
       "    </tr>\n",
       "    <tr>\n",
       "      <th>2</th>\n",
       "      <td>2017-01-03 23:30:00</td>\n",
       "      <td>226</td>\n",
       "      <td>SCEL</td>\n",
       "      <td>KMIA</td>\n",
       "      <td>AAL</td>\n",
       "      <td>2017-01-03 23:39:00</td>\n",
       "      <td>226</td>\n",
       "      <td>SCEL</td>\n",
       "      <td>KMIA</td>\n",
       "      <td>AAL</td>\n",
       "      <td>3.0</td>\n",
       "      <td>1.0</td>\n",
       "      <td>2017.0</td>\n",
       "      <td>Martes</td>\n",
       "      <td>I</td>\n",
       "      <td>American Airlines</td>\n",
       "      <td>Santiago</td>\n",
       "      <td>Miami</td>\n",
       "    </tr>\n",
       "    <tr>\n",
       "      <th>3</th>\n",
       "      <td>2017-01-04 23:30:00</td>\n",
       "      <td>226</td>\n",
       "      <td>SCEL</td>\n",
       "      <td>KMIA</td>\n",
       "      <td>AAL</td>\n",
       "      <td>2017-01-04 23:33:00</td>\n",
       "      <td>226</td>\n",
       "      <td>SCEL</td>\n",
       "      <td>KMIA</td>\n",
       "      <td>AAL</td>\n",
       "      <td>4.0</td>\n",
       "      <td>1.0</td>\n",
       "      <td>2017.0</td>\n",
       "      <td>Miercoles</td>\n",
       "      <td>I</td>\n",
       "      <td>American Airlines</td>\n",
       "      <td>Santiago</td>\n",
       "      <td>Miami</td>\n",
       "    </tr>\n",
       "    <tr>\n",
       "      <th>4</th>\n",
       "      <td>2017-01-05 23:30:00</td>\n",
       "      <td>226</td>\n",
       "      <td>SCEL</td>\n",
       "      <td>KMIA</td>\n",
       "      <td>AAL</td>\n",
       "      <td>2017-01-05 23:28:00</td>\n",
       "      <td>226</td>\n",
       "      <td>SCEL</td>\n",
       "      <td>KMIA</td>\n",
       "      <td>AAL</td>\n",
       "      <td>5.0</td>\n",
       "      <td>1.0</td>\n",
       "      <td>2017.0</td>\n",
       "      <td>Jueves</td>\n",
       "      <td>I</td>\n",
       "      <td>American Airlines</td>\n",
       "      <td>Santiago</td>\n",
       "      <td>Miami</td>\n",
       "    </tr>\n",
       "  </tbody>\n",
       "</table>\n",
       "</div>"
      ],
      "text/plain": [
       "               Fecha-I Vlo-I Ori-I Des-I Emp-I              Fecha-O Vlo-O  \\\n",
       "0  2017-01-01 23:30:00   226  SCEL  KMIA   AAL  2017-01-01 23:33:00   226   \n",
       "1  2017-01-02 23:30:00   226  SCEL  KMIA   AAL  2017-01-02 23:39:00   226   \n",
       "2  2017-01-03 23:30:00   226  SCEL  KMIA   AAL  2017-01-03 23:39:00   226   \n",
       "3  2017-01-04 23:30:00   226  SCEL  KMIA   AAL  2017-01-04 23:33:00   226   \n",
       "4  2017-01-05 23:30:00   226  SCEL  KMIA   AAL  2017-01-05 23:28:00   226   \n",
       "\n",
       "  Ori-O Des-O Emp-O  DIA  MES     AÑO     DIANOM TIPOVUELO              OPERA  \\\n",
       "0  SCEL  KMIA   AAL  1.0  1.0  2017.0    Domingo         I  American Airlines   \n",
       "1  SCEL  KMIA   AAL  2.0  1.0  2017.0      Lunes         I  American Airlines   \n",
       "2  SCEL  KMIA   AAL  3.0  1.0  2017.0     Martes         I  American Airlines   \n",
       "3  SCEL  KMIA   AAL  4.0  1.0  2017.0  Miercoles         I  American Airlines   \n",
       "4  SCEL  KMIA   AAL  5.0  1.0  2017.0     Jueves         I  American Airlines   \n",
       "\n",
       "   SIGLAORI SIGLADES  \n",
       "0  Santiago    Miami  \n",
       "1  Santiago    Miami  \n",
       "2  Santiago    Miami  \n",
       "3  Santiago    Miami  \n",
       "4  Santiago    Miami  "
      ]
     },
     "execution_count": 3,
     "metadata": {},
     "output_type": "execute_result"
    }
   ],
   "source": [
    "base = pd.read_csv('dataset_SCL.csv')\n",
    "base.head()"
   ]
  },
  {
   "cell_type": "markdown",
   "metadata": {},
   "source": [
    "Analisis Exploratorio "
   ]
  },
  {
   "cell_type": "code",
   "execution_count": 4,
   "metadata": {},
   "outputs": [
    {
     "data": {
      "text/plain": [
       "(68206, 18)"
      ]
     },
     "execution_count": 4,
     "metadata": {},
     "output_type": "execute_result"
    }
   ],
   "source": [
    "base.shape"
   ]
  },
  {
   "cell_type": "code",
   "execution_count": 6,
   "metadata": {},
   "outputs": [
    {
     "data": {
      "text/html": [
       "<div>\n",
       "<style scoped>\n",
       "    .dataframe tbody tr th:only-of-type {\n",
       "        vertical-align: middle;\n",
       "    }\n",
       "\n",
       "    .dataframe tbody tr th {\n",
       "        vertical-align: top;\n",
       "    }\n",
       "\n",
       "    .dataframe thead th {\n",
       "        text-align: right;\n",
       "    }\n",
       "</style>\n",
       "<table border=\"1\" class=\"dataframe\">\n",
       "  <thead>\n",
       "    <tr style=\"text-align: right;\">\n",
       "      <th></th>\n",
       "      <th>AÑO</th>\n",
       "      <th>count</th>\n",
       "    </tr>\n",
       "  </thead>\n",
       "  <tbody>\n",
       "    <tr>\n",
       "      <th>0</th>\n",
       "      <td>2017.0</td>\n",
       "      <td>68165</td>\n",
       "    </tr>\n",
       "    <tr>\n",
       "      <th>1</th>\n",
       "      <td>2018.0</td>\n",
       "      <td>2</td>\n",
       "    </tr>\n",
       "  </tbody>\n",
       "</table>\n",
       "</div>"
      ],
      "text/plain": [
       "      AÑO  count\n",
       "0  2017.0  68165\n",
       "1  2018.0      2"
      ]
     },
     "execution_count": 6,
     "metadata": {},
     "output_type": "execute_result"
    }
   ],
   "source": [
    "anno=pd.DataFrame({'count' : base.groupby(\"AÑO\").size()}).reset_index()\n",
    "anno.head()\n"
   ]
  },
  {
   "cell_type": "markdown",
   "metadata": {},
   "source": [
    "Para el año 2017 se realizaron un total de 68.165 vuelos y solo para el año 2018 se realizaron 2 vuelos"
   ]
  },
  {
   "cell_type": "code",
   "execution_count": 8,
   "metadata": {},
   "outputs": [
    {
     "data": {
      "text/html": [
       "<div>\n",
       "<style scoped>\n",
       "    .dataframe tbody tr th:only-of-type {\n",
       "        vertical-align: middle;\n",
       "    }\n",
       "\n",
       "    .dataframe tbody tr th {\n",
       "        vertical-align: top;\n",
       "    }\n",
       "\n",
       "    .dataframe thead th {\n",
       "        text-align: right;\n",
       "    }\n",
       "</style>\n",
       "<table border=\"1\" class=\"dataframe\">\n",
       "  <thead>\n",
       "    <tr style=\"text-align: right;\">\n",
       "      <th>AÑO</th>\n",
       "      <th>2017.0</th>\n",
       "      <th>2018.0</th>\n",
       "    </tr>\n",
       "    <tr>\n",
       "      <th>MES</th>\n",
       "      <th></th>\n",
       "      <th></th>\n",
       "    </tr>\n",
       "  </thead>\n",
       "  <tbody>\n",
       "    <tr>\n",
       "      <th>1.0</th>\n",
       "      <td>6106.0</td>\n",
       "      <td>2.0</td>\n",
       "    </tr>\n",
       "    <tr>\n",
       "      <th>2.0</th>\n",
       "      <td>5561.0</td>\n",
       "      <td>NaN</td>\n",
       "    </tr>\n",
       "    <tr>\n",
       "      <th>3.0</th>\n",
       "      <td>5480.0</td>\n",
       "      <td>NaN</td>\n",
       "    </tr>\n",
       "    <tr>\n",
       "      <th>4.0</th>\n",
       "      <td>5020.0</td>\n",
       "      <td>NaN</td>\n",
       "    </tr>\n",
       "    <tr>\n",
       "      <th>5.0</th>\n",
       "      <td>5240.0</td>\n",
       "      <td>NaN</td>\n",
       "    </tr>\n",
       "    <tr>\n",
       "      <th>6.0</th>\n",
       "      <td>4981.0</td>\n",
       "      <td>NaN</td>\n",
       "    </tr>\n",
       "    <tr>\n",
       "      <th>7.0</th>\n",
       "      <td>5992.0</td>\n",
       "      <td>NaN</td>\n",
       "    </tr>\n",
       "    <tr>\n",
       "      <th>8.0</th>\n",
       "      <td>5743.0</td>\n",
       "      <td>NaN</td>\n",
       "    </tr>\n",
       "    <tr>\n",
       "      <th>9.0</th>\n",
       "      <td>5610.0</td>\n",
       "      <td>NaN</td>\n",
       "    </tr>\n",
       "    <tr>\n",
       "      <th>10.0</th>\n",
       "      <td>6020.0</td>\n",
       "      <td>NaN</td>\n",
       "    </tr>\n",
       "    <tr>\n",
       "      <th>11.0</th>\n",
       "      <td>6068.0</td>\n",
       "      <td>NaN</td>\n",
       "    </tr>\n",
       "    <tr>\n",
       "      <th>12.0</th>\n",
       "      <td>6344.0</td>\n",
       "      <td>NaN</td>\n",
       "    </tr>\n",
       "  </tbody>\n",
       "</table>\n",
       "</div>"
      ],
      "text/plain": [
       "AÑO   2017.0  2018.0\n",
       "MES                 \n",
       "1.0   6106.0     2.0\n",
       "2.0   5561.0     NaN\n",
       "3.0   5480.0     NaN\n",
       "4.0   5020.0     NaN\n",
       "5.0   5240.0     NaN\n",
       "6.0   4981.0     NaN\n",
       "7.0   5992.0     NaN\n",
       "8.0   5743.0     NaN\n",
       "9.0   5610.0     NaN\n",
       "10.0  6020.0     NaN\n",
       "11.0  6068.0     NaN\n",
       "12.0  6344.0     NaN"
      ]
     },
     "execution_count": 8,
     "metadata": {},
     "output_type": "execute_result"
    }
   ],
   "source": [
    "anno_mes=base.groupby(['AÑO', 'MES']).size()\n",
    "anno_mes=anno_mes.reset_index()\n",
    "anno_mes=pd.pivot_table(anno_mes, columns=\"AÑO\", index=\"MES\", values=0)\n",
    "anno_mes "
   ]
  },
  {
   "cell_type": "code",
   "execution_count": 49,
   "metadata": {},
   "outputs": [
    {
     "data": {
      "text/plain": [
       "0.09306555958161573"
      ]
     },
     "execution_count": 49,
     "metadata": {},
     "output_type": "execute_result"
    }
   ],
   "source": [
    "6344/68167"
   ]
  },
  {
   "cell_type": "code",
   "execution_count": 54,
   "metadata": {},
   "outputs": [
    {
     "data": {
      "text/plain": [
       "Text(0, 0.5, 'Cantidad de vuelos')"
      ]
     },
     "execution_count": 54,
     "metadata": {},
     "output_type": "execute_result"
    },
    {
     "data": {
      "image/png": "[encoded data removed]",
      "text/plain": [
       "<Figure size 1080x504 with 1 Axes>"
      ]
     },
     "metadata": {
      "needs_background": "light"
     },
     "output_type": "display_data"
    }
   ],
   "source": [
    "mes=pd.DataFrame({'count' : base.groupby(\"MES\").size()}).reset_index()\n",
    "pyplot.figure(figsize=(15,7))\n",
    "pyplot.title(\"Cantidad de vuelos por Mes\")\n",
    "pyplot.bar(mes[\"MES\"], height=mes[\"count\"])\n",
    "pyplot.ylabel(\"Cantidad de vuelos\")"
   ]
  },
  {
   "cell_type": "markdown",
   "metadata": {},
   "source": [
    "Como podemos observar aproximadamente se realizan minimo 5 mil vuelos en cada uno de los meses del año 2017 y solo se realizaron dos vuelos en el mes de enero de 2018. El mes donde se presentan mas vuelos es en Diciembre (9.3%) esto puede ser causado por la temporada vacional del ultimo año por sus festividades. Este leve incremento de vuelos en los ultimos meses del año de 2017 puede ser causado por la temporada de fin de año."
   ]
  },
  {
   "cell_type": "code",
   "execution_count": 10,
   "metadata": {},
   "outputs": [
    {
     "data": {
      "text/plain": [
       "DIANOM\n",
       "Domingo       9796\n",
       "Jueves       10237\n",
       "Lunes        10130\n",
       "Martes        9652\n",
       "Miercoles     9721\n",
       "Sabado        8352\n",
       "Viernes      10279\n",
       "dtype: int64"
      ]
     },
     "execution_count": 10,
     "metadata": {},
     "output_type": "execute_result"
    }
   ],
   "source": [
    "dia_semana=base.groupby('DIANOM').size()\n",
    "dia_semana"
   ]
  },
  {
   "cell_type": "code",
   "execution_count": 61,
   "metadata": {},
   "outputs": [
    {
     "data": {
      "text/plain": [
       "Text(0, 0.5, 'Cantidad de vuelos')"
      ]
     },
     "execution_count": 61,
     "metadata": {},
     "output_type": "execute_result"
    },
    {
     "data": {
      "image/png": "[encoded data removed]",
      "text/plain": [
       "<Figure size 1080x504 with 1 Axes>"
      ]
     },
     "metadata": {
      "needs_background": "light"
     },
     "output_type": "display_data"
    }
   ],
   "source": [
    "dia = [\"Lunes\", \"Martes\", \"Miercoles\", \"Jueves\", \"Viernes\", \"Sabado\", \"Domingo\"]\n",
    "valores= [10130,9652,9721,10237,10279,8352,9796]\n",
    "pyplot.figure(figsize=(15,7))\n",
    "pyplot.title(\"Cantidad de vuelos por Dia de la Semana\")\n",
    "pyplot.bar(dia, height=valores, color=\"green\")\n",
    "pyplot.ylabel(\"Cantidad de vuelos\")"
   ]
  },
  {
   "cell_type": "markdown",
   "metadata": {},
   "source": [
    "Se puede observar que los dias donde se presentan la mayor cantidad de vuelos son los dias jueves, viernes y lunes, este comportamiento puede ser causado por los dias de descanso del fin de semana."
   ]
  },
  {
   "cell_type": "code",
   "execution_count": 12,
   "metadata": {},
   "outputs": [
    {
     "data": {
      "text/plain": [
       "SIGLAORI\n",
       "Santiago    68167\n",
       "dtype: int64"
      ]
     },
     "execution_count": 12,
     "metadata": {},
     "output_type": "execute_result"
    }
   ],
   "source": [
    "ciudad_origen=base.groupby('SIGLAORI').size()\n",
    "ciudad_origen"
   ]
  },
  {
   "cell_type": "markdown",
   "metadata": {},
   "source": [
    "Todos los vuelos tienen como ciudad de origen Santiago"
   ]
  },
  {
   "cell_type": "code",
   "execution_count": 13,
   "metadata": {},
   "outputs": [
    {
     "data": {
      "text/plain": [
       "SIGLADES\n",
       "Buenos Aires        6335\n",
       "Antofagasta         5786\n",
       "Lima                5270\n",
       "Calama              5146\n",
       "Puerto Montt        4357\n",
       "Concepcion          3993\n",
       "Iquique             3747\n",
       "Sao Paulo           3569\n",
       "Temuco              2589\n",
       "Arica               2436\n",
       "La Serena           2410\n",
       "Punta Arenas        2105\n",
       "Ciudad de Panama    1850\n",
       "Copiapo             1780\n",
       "Mendoza             1625\n",
       "Bogota              1604\n",
       "Rio de Janeiro      1435\n",
       "Montevideo          1066\n",
       "Cordoba             1023\n",
       "Miami               1016\n",
       "Madrid               894\n",
       "Balmaceda            839\n",
       "Valdivia             753\n",
       "Ciudad de Mexico     700\n",
       "Isla de Pascua       452\n",
       "Guayaquil            422\n",
       "Nueva York           382\n",
       "Auckland N.Z.        361\n",
       "Paris                359\n",
       "Atlanta              358\n",
       "Dallas               357\n",
       "Houston              334\n",
       "Toronto              283\n",
       "Roma                 259\n",
       "Osorno               259\n",
       "Castro (Chiloe)      235\n",
       "Asuncion             232\n",
       "La Paz               209\n",
       "Londres              205\n",
       "Sydney               194\n",
       "Florianapolis        162\n",
       "Los Angeles          155\n",
       "Rosario              136\n",
       "Santa Cruz           120\n",
       "Puerto Natales        79\n",
       "Cancun                63\n",
       "Punta Cana            54\n",
       "Melbourne             39\n",
       "Tucuman               38\n",
       "Neuquen               37\n",
       "Orlando               34\n",
       "Ushuia                 6\n",
       "Punta del Este         6\n",
       "Quito                  2\n",
       "Bariloche              2\n",
       "Cataratas Iguacu       2\n",
       "Puerto Stanley         1\n",
       "Cochabamba             1\n",
       "Washington             1\n",
       "dtype: int64"
      ]
     },
     "execution_count": 13,
     "metadata": {},
     "output_type": "execute_result"
    }
   ],
   "source": [
    "ciudad_destino=base.groupby('SIGLADES').size().sort_values(ascending=False)\n",
    "ciudad_destino"
   ]
  },
  {
   "cell_type": "code",
   "execution_count": 37,
   "metadata": {},
   "outputs": [
    {
     "data": {
      "text/plain": [
       "33.0614520222395"
      ]
     },
     "execution_count": 37,
     "metadata": {},
     "output_type": "execute_result"
    }
   ],
   "source": [
    "((6335+5786+5270+5146)/68167)*100"
   ]
  },
  {
   "cell_type": "code",
   "execution_count": 62,
   "metadata": {},
   "outputs": [
    {
     "data": {
      "text/plain": [
       "Text(0, 0.5, 'Cantidad de vuelos')"
      ]
     },
     "execution_count": 62,
     "metadata": {},
     "output_type": "execute_result"
    },
    {
     "data": {
      "image/png": "[encoded data removed]",
      "text/plain": [
       "<Figure size 1080x504 with 1 Axes>"
      ]
     },
     "metadata": {
      "needs_background": "light"
     },
     "output_type": "display_data"
    }
   ],
   "source": [
    "             \n",
    "destino = [\"Buenos Aires\", \"Antofagasta\", \"Lima\", \"Calama\", \"Puerto Montt\", \"Concepcion\", \"Iquique\", \"Sao Paulo\", \"Temuco\"]\n",
    "valores= [6335,5786,5270,5146,4357,3993,3747,3569,2589]\n",
    "pyplot.figure(figsize=(15,7))\n",
    "pyplot.title(\"Cantidad de vuelos por Destino\")\n",
    "pyplot.bar(destino, height=valores, color=\"cyan\")\n",
    "pyplot.ylabel(\"Cantidad de vuelos\")\n"
   ]
  },
  {
   "cell_type": "markdown",
   "metadata": {},
   "source": [
    "Se osberva que la mayor cantidad de vuelos tienen como destino Buenos Aires, Antofagasta, Lima y Calama (33% del total de los vuelos corresponde a estas 4 ciudades de destino).\n",
    "\n",
    "Segun el siguiente comunicado de prensa de Latam \"https://www.latamairlines.com/co/es/prensa/comunicados/aumento-frecuencias-latam-argentina\".\n",
    "\n",
    "El grupo LATAM tiene el agrado de anunciar que, con el objetivo de continuar fortaleciendo sus itinerarios, aumentará su oferta internacional desde y hacia Argentina durante los meses de julio, agosto y septiembre.\n",
    "\n",
    " “Con este incremento, contribuimos con la conectividad desde y hacia Argentina, promoviendo el turismo y el desarrollo del país. Nos enorgullece conectar a los argentinos con el mundo, con más de 120 destinos a través de nuestros 3 centros de conexión en Lima, Sao Paulo y Santiago de Chile”, comentó Javier Macias, Gerente Comercial de LATAM Airlines. “Como grupo de aerolíneas, estamos comprometidos a ofrecer a nuestros pasajeros una conectividad inigualable hacía, desde y dentro de Latinoamérica, así como la oportunidad de visitar los imponentes destinos que tanto Argentina como el continente tienen para ofrecer”, agregó Macias.\n",
    "\n",
    "Con esto podria concluir que alguna de las estrategias de los años anteriores tuvieron el mismo enfoque de incrementar la frecuencia de vuelos hacia Buenos aires, Lima y Sao Pablo con el fin de promover el turismo.\n",
    "\n",
    "Con respecto a la ciudad de Antofagasta como es un sitio turisco conocido como \"La Perla del Norte\" puede que sea un sitio preferido para los turistas."
   ]
  },
  {
   "cell_type": "code",
   "execution_count": 42,
   "metadata": {},
   "outputs": [
    {
     "data": {
      "text/plain": [
       "OPERA\n",
       "Grupo LATAM                 40854\n",
       "Sky Airline                 14298\n",
       "Aerolineas Argentinas        1949\n",
       "Copa Air                     1850\n",
       "Latin American Wings         1673\n",
       "Avianca                      1152\n",
       "JetSmart SPA                 1095\n",
       "Gol Trans                     806\n",
       "American Airlines             757\n",
       "Air Canada                    565\n",
       "Iberia                        362\n",
       "Delta Air                     358\n",
       "Air France                    358\n",
       "Aeromexico                    351\n",
       "United Airlines               335\n",
       "Oceanair Linhas Aereas        278\n",
       "Alitalia                      259\n",
       "K.L.M.                        251\n",
       "British Airways               205\n",
       "Qantas Airways                195\n",
       "Lacsa                          92\n",
       "Austral                        74\n",
       "Plus Ultra Lineas Aereas       49\n",
       "dtype: int64"
      ]
     },
     "execution_count": 42,
     "metadata": {},
     "output_type": "execute_result"
    }
   ],
   "source": [
    "aerolinea=base.groupby('OPERA').size().sort_values(ascending=False)\n",
    "aerolinea"
   ]
  },
  {
   "cell_type": "code",
   "execution_count": 48,
   "metadata": {},
   "outputs": [
    {
     "name": "stdout",
     "output_type": "stream",
     "text": [
      "0.5993222527029207\n",
      "0.20974958557659865\n"
     ]
    }
   ],
   "source": [
    "print(40854/68167)\n",
    "print(14298/68167)"
   ]
  },
  {
   "cell_type": "code",
   "execution_count": 63,
   "metadata": {},
   "outputs": [
    {
     "data": {
      "text/plain": [
       "Text(0, 0.5, 'Cantidad de vuelos')"
      ]
     },
     "execution_count": 63,
     "metadata": {},
     "output_type": "execute_result"
    },
    {
     "data": {
      "image/png": "[encoded data removed]",
      "text/plain": [
       "<Figure size 1080x504 with 1 Axes>"
      ]
     },
     "metadata": {
      "needs_background": "light"
     },
     "output_type": "display_data"
    }
   ],
   "source": [
    "aero = [\"Grupo LATAM\", \"Sky Airline\", \"Aerolineas Argentinas\", \"Copa Air\", \"Latin American Wings\"]\n",
    "valores= [40854, 14298, 1949, 1850, 1673]\n",
    "pyplot.figure(figsize=(15,7))\n",
    "pyplot.title(\"Cantidad de vuelos por Aerolinea\")\n",
    "pyplot.bar(aero, height=valores, color=\"orange\")\n",
    "pyplot.ylabel(\"Cantidad de vuelos\")"
   ]
  },
  {
   "cell_type": "markdown",
   "metadata": {},
   "source": [
    "se observa que la aerolinea con mas vuelos es el Grupo LATAM con un 59.9% del total de los vuelos y la aerolinea Sky Airline tiene un 20.9% del total de los vuelos. \n",
    "\n",
    "Este comportamiento es por que LATAM es la aerolinea chilena mas famosa de Chile ya que posee una cuota de mercado del 63%  de los pasajeros que viajan por Chile. Con respecto a SKY Airline es una aerolinea low cost la cual da resultados positivos y por eso esta como la segunda arelonia mas frecuente en la cantidad de vuelos den 2017.\n"
   ]
  },
  {
   "cell_type": "code",
   "execution_count": 40,
   "metadata": {},
   "outputs": [
    {
     "data": {
      "text/plain": [
       "TIPOVUELO\n",
       "I    31201\n",
       "N    36966\n",
       "dtype: int64"
      ]
     },
     "execution_count": 40,
     "metadata": {},
     "output_type": "execute_result"
    }
   ],
   "source": [
    "TIPOVUELO=base.groupby('TIPOVUELO').size().sort_values()\n",
    "TIPOVUELO"
   ]
  },
  {
   "cell_type": "code",
   "execution_count": 45,
   "metadata": {},
   "outputs": [
    {
     "data": {
      "text/plain": [
       "0.5422858567928763"
      ]
     },
     "execution_count": 45,
     "metadata": {},
     "output_type": "execute_result"
    }
   ],
   "source": [
    "36966/68167"
   ]
  },
  {
   "cell_type": "code",
   "execution_count": 65,
   "metadata": {},
   "outputs": [
    {
     "data": {
      "text/plain": [
       "Text(0, 0.5, 'Cantidad de vuelos')"
      ]
     },
     "execution_count": 65,
     "metadata": {},
     "output_type": "execute_result"
    },
    {
     "data": {
      "image/png": "[encoded data removed]",
      "text/plain": [
       "<Figure size 432x288 with 1 Axes>"
      ]
     },
     "metadata": {
      "needs_background": "light"
     },
     "output_type": "display_data"
    }
   ],
   "source": [
    "tipo=pd.DataFrame({'count' : base.groupby(\"TIPOVUELO\").size()}).reset_index()\n",
    "pyplot.title(\"Cantidad de vuelos por Tipo de Vuelo\")\n",
    "pyplot.bar(tipo[\"TIPOVUELO\"], height=tipo[\"count\"], color=\"red\")\n",
    "pyplot.ylabel(\"Cantidad de vuelos\")"
   ]
  },
  {
   "cell_type": "markdown",
   "metadata": {},
   "source": [
    "Vemos que el 54.2% de los vuelos son Nacionales y el 45.8% son vuelos internacionales, este comportamiento puede ser por que los tiquetes de vuelos nacionales son mas baratos que los tiquetes nacionales y por esta razon los pasajeros tienen a realizar mas viajes nacionales que internacionales."
   ]
  },
  {
   "cell_type": "code",
   "execution_count": 35,
   "metadata": {},
   "outputs": [
    {
     "data": {
      "text/plain": [
       "DIA\n",
       "1.0     2207\n",
       "2.0     2222\n",
       "3.0     2269\n",
       "4.0     2215\n",
       "5.0     2239\n",
       "6.0     2273\n",
       "7.0     2263\n",
       "8.0     2211\n",
       "9.0     2226\n",
       "10.0    2281\n",
       "11.0    2237\n",
       "12.0    2281\n",
       "13.0    2271\n",
       "14.0    2219\n",
       "15.0    2238\n",
       "16.0    2267\n",
       "17.0    2226\n",
       "18.0    2160\n",
       "19.0    2238\n",
       "20.0    2289\n",
       "21.0    2265\n",
       "22.0    2271\n",
       "23.0    2259\n",
       "24.0    2230\n",
       "25.0    2179\n",
       "26.0    2265\n",
       "27.0    2285\n",
       "28.0    2230\n",
       "29.0    2043\n",
       "30.0    2019\n",
       "31.0    1289\n",
       "dtype: int64"
      ]
     },
     "execution_count": 35,
     "metadata": {},
     "output_type": "execute_result"
    }
   ],
   "source": [
    "DIA=base.groupby('DIA').size()\n",
    "DIA"
   ]
  },
  {
   "cell_type": "code",
   "execution_count": 39,
   "metadata": {},
   "outputs": [
    {
     "data": {
      "text/plain": [
       "<BarContainer object of 31 artists>"
      ]
     },
     "execution_count": 39,
     "metadata": {},
     "output_type": "execute_result"
    },
    {
     "data": {
      "image/png": "[encoded data removed]",
      "text/plain": [
       "<Figure size 1080x504 with 1 Axes>"
      ]
     },
     "metadata": {
      "needs_background": "light"
     },
     "output_type": "display_data"
    }
   ],
   "source": [
    "dia=pd.DataFrame({'count' : base.groupby(\"DIA\").size()}).reset_index()\n",
    "pyplot.figure(figsize=(15,7))\n",
    "pyplot.title(\"Cantidad de vuelos por Dia\")\n",
    "pyplot.bar(dia[\"DIA\"], height=dia[\"count\"])"
   ]
  },
  {
   "cell_type": "markdown",
   "metadata": {},
   "source": [
    "Observamos que en todos los dias del mes se realizan minimo 2 mil vuelos y no se presentan valores atipicos en este comportamiento"
   ]
  },
  {
   "cell_type": "markdown",
   "metadata": {},
   "source": [
    "Creacion Nuevas Variables"
   ]
  },
  {
   "cell_type": "code",
   "execution_count": 4,
   "metadata": {},
   "outputs": [
    {
     "data": {
      "text/plain": [
       "Fecha-I       object\n",
       "Vlo-I         object\n",
       "Ori-I         object\n",
       "Des-I         object\n",
       "Emp-I         object\n",
       "Fecha-O       object\n",
       "Vlo-O         object\n",
       "Ori-O         object\n",
       "Des-O         object\n",
       "Emp-O         object\n",
       "DIA          float64\n",
       "MES          float64\n",
       "AÑO          float64\n",
       "DIANOM        object\n",
       "TIPOVUELO     object\n",
       "OPERA         object\n",
       "SIGLAORI      object\n",
       "SIGLADES      object\n",
       "dtype: object"
      ]
     },
     "execution_count": 4,
     "metadata": {},
     "output_type": "execute_result"
    }
   ],
   "source": [
    "base.dtypes"
   ]
  },
  {
   "cell_type": "code",
   "execution_count": 47,
   "metadata": {},
   "outputs": [],
   "source": [
    "base.dropna(inplace = True)\n",
    "base[\"Fecha-I\"]= base[\"Fecha-I\"].str.split(\",\",  expand = True)"
   ]
  },
  {
   "cell_type": "code",
   "execution_count": 48,
   "metadata": {},
   "outputs": [],
   "source": [
    "base[\"Fecha-I\"]= pd.to_datetime(base[\"Fecha-I\"], format='%Y-%m-%d %H:%M')\n",
    "base[\"Fecha-O\"]= pd.to_datetime(base[\"Fecha-O\"], format='%Y-%m-%d %H:%M')"
   ]
  },
  {
   "cell_type": "markdown",
   "metadata": {},
   "source": [
    "Creacion Variable dif_min y atraso_15"
   ]
  },
  {
   "cell_type": "code",
   "execution_count": 49,
   "metadata": {},
   "outputs": [],
   "source": [
    "\n",
    "base[\"dif_min\"]=(base[\"Fecha-O\"]-base[\"Fecha-I\"]).astype('timedelta64[m]')\n",
    "base[\"atraso_15\"] = pd.Series(np.where((base['dif_min'] >= 15) , 1, 0))\n"
   ]
  },
  {
   "cell_type": "markdown",
   "metadata": {},
   "source": [
    "Creacion Variable Temporada Alta"
   ]
  },
  {
   "cell_type": "code",
   "execution_count": 50,
   "metadata": {},
   "outputs": [],
   "source": [
    "base[\"temporada_alta\"] =  pd.Series(np.where((base['Fecha-I'] >= \"2017-12-15\") & (base['Fecha-I'] <= \"2017-03-03\") |\\\n",
    "                                             (base['Fecha-I'] >= \"2017-07-15\") & (base['Fecha-I'] <= \"2017-07-31\") |\\\n",
    "                                             (base['Fecha-I'] >= \"2017-09-11\") & (base['Fecha-I'] <= \"2017-09-30\"), 1, 0))"
   ]
  },
  {
   "cell_type": "markdown",
   "metadata": {},
   "source": [
    "Creacion Variable Periodo dia"
   ]
  },
  {
   "cell_type": "code",
   "execution_count": 51,
   "metadata": {},
   "outputs": [],
   "source": [
    "base[\"periodo_dia\"] = pd.Series(np.where((base[\"Fecha-I\"].dt.hour.astype(int) >= 5) &  (base[\"Fecha-I\"].dt.hour.astype(int) < 12), \"mañana\",\n",
    "                                np.where((base[\"Fecha-I\"].dt.hour.astype(int) >= 12) & (base[\"Fecha-I\"].dt.hour.astype(int) < 19), \"tarde\",\"noche\")))"
   ]
  },
  {
   "cell_type": "code",
   "execution_count": 71,
   "metadata": {},
   "outputs": [],
   "source": [
    "base.to_csv(\"synthetic_features.csv\", index=False)"
   ]
  },
  {
   "cell_type": "markdown",
   "metadata": {},
   "source": [
    "Analisis tasa de atraso con variables "
   ]
  },
  {
   "cell_type": "markdown",
   "metadata": {},
   "source": [
    "Atraso Vs Destino"
   ]
  },
  {
   "cell_type": "code",
   "execution_count": 28,
   "metadata": {},
   "outputs": [
    {
     "data": {
      "text/html": [
       "<div>\n",
       "<style scoped>\n",
       "    .dataframe tbody tr th:only-of-type {\n",
       "        vertical-align: middle;\n",
       "    }\n",
       "\n",
       "    .dataframe tbody tr th {\n",
       "        vertical-align: top;\n",
       "    }\n",
       "\n",
       "    .dataframe thead th {\n",
       "        text-align: right;\n",
       "    }\n",
       "</style>\n",
       "<table border=\"1\" class=\"dataframe\">\n",
       "  <thead>\n",
       "    <tr style=\"text-align: right;\">\n",
       "      <th>atraso_15</th>\n",
       "      <th>0.0</th>\n",
       "      <th>1.0</th>\n",
       "    </tr>\n",
       "    <tr>\n",
       "      <th>SIGLADES</th>\n",
       "      <th></th>\n",
       "      <th></th>\n",
       "    </tr>\n",
       "  </thead>\n",
       "  <tbody>\n",
       "    <tr>\n",
       "      <th>Antofagasta</th>\n",
       "      <td>4852.0</td>\n",
       "      <td>934.0</td>\n",
       "    </tr>\n",
       "    <tr>\n",
       "      <th>Buenos Aires</th>\n",
       "      <td>4575.0</td>\n",
       "      <td>1760.0</td>\n",
       "    </tr>\n",
       "    <tr>\n",
       "      <th>Calama</th>\n",
       "      <td>4456.0</td>\n",
       "      <td>690.0</td>\n",
       "    </tr>\n",
       "    <tr>\n",
       "      <th>Lima</th>\n",
       "      <td>3982.0</td>\n",
       "      <td>1281.0</td>\n",
       "    </tr>\n",
       "    <tr>\n",
       "      <th>Puerto Montt</th>\n",
       "      <td>3542.0</td>\n",
       "      <td>815.0</td>\n",
       "    </tr>\n",
       "    <tr>\n",
       "      <th>Concepcion</th>\n",
       "      <td>3330.0</td>\n",
       "      <td>663.0</td>\n",
       "    </tr>\n",
       "    <tr>\n",
       "      <th>Iquique</th>\n",
       "      <td>3055.0</td>\n",
       "      <td>692.0</td>\n",
       "    </tr>\n",
       "    <tr>\n",
       "      <th>Sao Paulo</th>\n",
       "      <td>2598.0</td>\n",
       "      <td>971.0</td>\n",
       "    </tr>\n",
       "    <tr>\n",
       "      <th>Temuco</th>\n",
       "      <td>2119.0</td>\n",
       "      <td>448.0</td>\n",
       "    </tr>\n",
       "    <tr>\n",
       "      <th>Arica</th>\n",
       "      <td>2066.0</td>\n",
       "      <td>370.0</td>\n",
       "    </tr>\n",
       "    <tr>\n",
       "      <th>La Serena</th>\n",
       "      <td>2007.0</td>\n",
       "      <td>403.0</td>\n",
       "    </tr>\n",
       "    <tr>\n",
       "      <th>Punta Arenas</th>\n",
       "      <td>1765.0</td>\n",
       "      <td>328.0</td>\n",
       "    </tr>\n",
       "    <tr>\n",
       "      <th>Ciudad de Panama</th>\n",
       "      <td>1724.0</td>\n",
       "      <td>126.0</td>\n",
       "    </tr>\n",
       "    <tr>\n",
       "      <th>Copiapo</th>\n",
       "      <td>1499.0</td>\n",
       "      <td>281.0</td>\n",
       "    </tr>\n",
       "    <tr>\n",
       "      <th>Bogota</th>\n",
       "      <td>1193.0</td>\n",
       "      <td>411.0</td>\n",
       "    </tr>\n",
       "    <tr>\n",
       "      <th>Mendoza</th>\n",
       "      <td>1152.0</td>\n",
       "      <td>473.0</td>\n",
       "    </tr>\n",
       "    <tr>\n",
       "      <th>Rio de Janeiro</th>\n",
       "      <td>987.0</td>\n",
       "      <td>448.0</td>\n",
       "    </tr>\n",
       "    <tr>\n",
       "      <th>Montevideo</th>\n",
       "      <td>827.0</td>\n",
       "      <td>239.0</td>\n",
       "    </tr>\n",
       "    <tr>\n",
       "      <th>Miami</th>\n",
       "      <td>827.0</td>\n",
       "      <td>189.0</td>\n",
       "    </tr>\n",
       "    <tr>\n",
       "      <th>Madrid</th>\n",
       "      <td>723.0</td>\n",
       "      <td>171.0</td>\n",
       "    </tr>\n",
       "    <tr>\n",
       "      <th>Balmaceda</th>\n",
       "      <td>707.0</td>\n",
       "      <td>132.0</td>\n",
       "    </tr>\n",
       "    <tr>\n",
       "      <th>Cordoba</th>\n",
       "      <td>683.0</td>\n",
       "      <td>340.0</td>\n",
       "    </tr>\n",
       "    <tr>\n",
       "      <th>Valdivia</th>\n",
       "      <td>619.0</td>\n",
       "      <td>134.0</td>\n",
       "    </tr>\n",
       "    <tr>\n",
       "      <th>Ciudad de Mexico</th>\n",
       "      <td>616.0</td>\n",
       "      <td>84.0</td>\n",
       "    </tr>\n",
       "    <tr>\n",
       "      <th>Isla de Pascua</th>\n",
       "      <td>346.0</td>\n",
       "      <td>106.0</td>\n",
       "    </tr>\n",
       "    <tr>\n",
       "      <th>Paris</th>\n",
       "      <td>339.0</td>\n",
       "      <td>20.0</td>\n",
       "    </tr>\n",
       "    <tr>\n",
       "      <th>Atlanta</th>\n",
       "      <td>336.0</td>\n",
       "      <td>22.0</td>\n",
       "    </tr>\n",
       "    <tr>\n",
       "      <th>Guayaquil</th>\n",
       "      <td>320.0</td>\n",
       "      <td>102.0</td>\n",
       "    </tr>\n",
       "    <tr>\n",
       "      <th>Houston</th>\n",
       "      <td>296.0</td>\n",
       "      <td>38.0</td>\n",
       "    </tr>\n",
       "    <tr>\n",
       "      <th>Dallas</th>\n",
       "      <td>291.0</td>\n",
       "      <td>66.0</td>\n",
       "    </tr>\n",
       "    <tr>\n",
       "      <th>Nueva York</th>\n",
       "      <td>291.0</td>\n",
       "      <td>91.0</td>\n",
       "    </tr>\n",
       "    <tr>\n",
       "      <th>Roma</th>\n",
       "      <td>225.0</td>\n",
       "      <td>34.0</td>\n",
       "    </tr>\n",
       "    <tr>\n",
       "      <th>Auckland N.Z.</th>\n",
       "      <td>224.0</td>\n",
       "      <td>137.0</td>\n",
       "    </tr>\n",
       "    <tr>\n",
       "      <th>Osorno</th>\n",
       "      <td>217.0</td>\n",
       "      <td>42.0</td>\n",
       "    </tr>\n",
       "    <tr>\n",
       "      <th>Castro (Chiloe)</th>\n",
       "      <td>209.0</td>\n",
       "      <td>26.0</td>\n",
       "    </tr>\n",
       "    <tr>\n",
       "      <th>Toronto</th>\n",
       "      <td>204.0</td>\n",
       "      <td>79.0</td>\n",
       "    </tr>\n",
       "    <tr>\n",
       "      <th>Londres</th>\n",
       "      <td>182.0</td>\n",
       "      <td>23.0</td>\n",
       "    </tr>\n",
       "    <tr>\n",
       "      <th>La Paz</th>\n",
       "      <td>170.0</td>\n",
       "      <td>39.0</td>\n",
       "    </tr>\n",
       "    <tr>\n",
       "      <th>Asuncion</th>\n",
       "      <td>169.0</td>\n",
       "      <td>63.0</td>\n",
       "    </tr>\n",
       "    <tr>\n",
       "      <th>Sydney</th>\n",
       "      <td>120.0</td>\n",
       "      <td>74.0</td>\n",
       "    </tr>\n",
       "    <tr>\n",
       "      <th>Florianapolis</th>\n",
       "      <td>119.0</td>\n",
       "      <td>43.0</td>\n",
       "    </tr>\n",
       "    <tr>\n",
       "      <th>Los Angeles</th>\n",
       "      <td>115.0</td>\n",
       "      <td>40.0</td>\n",
       "    </tr>\n",
       "    <tr>\n",
       "      <th>Santa Cruz</th>\n",
       "      <td>93.0</td>\n",
       "      <td>27.0</td>\n",
       "    </tr>\n",
       "    <tr>\n",
       "      <th>Rosario</th>\n",
       "      <td>91.0</td>\n",
       "      <td>45.0</td>\n",
       "    </tr>\n",
       "    <tr>\n",
       "      <th>Puerto Natales</th>\n",
       "      <td>71.0</td>\n",
       "      <td>8.0</td>\n",
       "    </tr>\n",
       "    <tr>\n",
       "      <th>Cancun</th>\n",
       "      <td>44.0</td>\n",
       "      <td>19.0</td>\n",
       "    </tr>\n",
       "    <tr>\n",
       "      <th>Punta Cana</th>\n",
       "      <td>42.0</td>\n",
       "      <td>12.0</td>\n",
       "    </tr>\n",
       "    <tr>\n",
       "      <th>Melbourne</th>\n",
       "      <td>29.0</td>\n",
       "      <td>10.0</td>\n",
       "    </tr>\n",
       "    <tr>\n",
       "      <th>Tucuman</th>\n",
       "      <td>26.0</td>\n",
       "      <td>12.0</td>\n",
       "    </tr>\n",
       "    <tr>\n",
       "      <th>Orlando</th>\n",
       "      <td>23.0</td>\n",
       "      <td>11.0</td>\n",
       "    </tr>\n",
       "    <tr>\n",
       "      <th>Neuquen</th>\n",
       "      <td>19.0</td>\n",
       "      <td>18.0</td>\n",
       "    </tr>\n",
       "    <tr>\n",
       "      <th>Ushuia</th>\n",
       "      <td>5.0</td>\n",
       "      <td>1.0</td>\n",
       "    </tr>\n",
       "    <tr>\n",
       "      <th>Punta del Este</th>\n",
       "      <td>4.0</td>\n",
       "      <td>2.0</td>\n",
       "    </tr>\n",
       "    <tr>\n",
       "      <th>Bariloche</th>\n",
       "      <td>2.0</td>\n",
       "      <td>NaN</td>\n",
       "    </tr>\n",
       "    <tr>\n",
       "      <th>Quito</th>\n",
       "      <td>1.0</td>\n",
       "      <td>1.0</td>\n",
       "    </tr>\n",
       "    <tr>\n",
       "      <th>Cochabamba</th>\n",
       "      <td>1.0</td>\n",
       "      <td>NaN</td>\n",
       "    </tr>\n",
       "    <tr>\n",
       "      <th>Cataratas Iguacu</th>\n",
       "      <td>1.0</td>\n",
       "      <td>1.0</td>\n",
       "    </tr>\n",
       "    <tr>\n",
       "      <th>Washington</th>\n",
       "      <td>1.0</td>\n",
       "      <td>NaN</td>\n",
       "    </tr>\n",
       "    <tr>\n",
       "      <th>Puerto Stanley</th>\n",
       "      <td>NaN</td>\n",
       "      <td>1.0</td>\n",
       "    </tr>\n",
       "  </tbody>\n",
       "</table>\n",
       "</div>"
      ],
      "text/plain": [
       "atraso_15            0.0     1.0\n",
       "SIGLADES                        \n",
       "Antofagasta       4852.0   934.0\n",
       "Buenos Aires      4575.0  1760.0\n",
       "Calama            4456.0   690.0\n",
       "Lima              3982.0  1281.0\n",
       "Puerto Montt      3542.0   815.0\n",
       "Concepcion        3330.0   663.0\n",
       "Iquique           3055.0   692.0\n",
       "Sao Paulo         2598.0   971.0\n",
       "Temuco            2119.0   448.0\n",
       "Arica             2066.0   370.0\n",
       "La Serena         2007.0   403.0\n",
       "Punta Arenas      1765.0   328.0\n",
       "Ciudad de Panama  1724.0   126.0\n",
       "Copiapo           1499.0   281.0\n",
       "Bogota            1193.0   411.0\n",
       "Mendoza           1152.0   473.0\n",
       "Rio de Janeiro     987.0   448.0\n",
       "Montevideo         827.0   239.0\n",
       "Miami              827.0   189.0\n",
       "Madrid             723.0   171.0\n",
       "Balmaceda          707.0   132.0\n",
       "Cordoba            683.0   340.0\n",
       "Valdivia           619.0   134.0\n",
       "Ciudad de Mexico   616.0    84.0\n",
       "Isla de Pascua     346.0   106.0\n",
       "Paris              339.0    20.0\n",
       "Atlanta            336.0    22.0\n",
       "Guayaquil          320.0   102.0\n",
       "Houston            296.0    38.0\n",
       "Dallas             291.0    66.0\n",
       "Nueva York         291.0    91.0\n",
       "Roma               225.0    34.0\n",
       "Auckland N.Z.      224.0   137.0\n",
       "Osorno             217.0    42.0\n",
       "Castro (Chiloe)    209.0    26.0\n",
       "Toronto            204.0    79.0\n",
       "Londres            182.0    23.0\n",
       "La Paz             170.0    39.0\n",
       "Asuncion           169.0    63.0\n",
       "Sydney             120.0    74.0\n",
       "Florianapolis      119.0    43.0\n",
       "Los Angeles        115.0    40.0\n",
       "Santa Cruz          93.0    27.0\n",
       "Rosario             91.0    45.0\n",
       "Puerto Natales      71.0     8.0\n",
       "Cancun              44.0    19.0\n",
       "Punta Cana          42.0    12.0\n",
       "Melbourne           29.0    10.0\n",
       "Tucuman             26.0    12.0\n",
       "Orlando             23.0    11.0\n",
       "Neuquen             19.0    18.0\n",
       "Ushuia               5.0     1.0\n",
       "Punta del Este       4.0     2.0\n",
       "Bariloche            2.0     NaN\n",
       "Quito                1.0     1.0\n",
       "Cochabamba           1.0     NaN\n",
       "Cataratas Iguacu     1.0     1.0\n",
       "Washington           1.0     NaN\n",
       "Puerto Stanley       NaN     1.0"
      ]
     },
     "execution_count": 28,
     "metadata": {},
     "output_type": "execute_result"
    }
   ],
   "source": [
    "atraso_destino=base.groupby(['atraso_15', 'SIGLADES']).size()\n",
    "atraso_destino=atraso_destino.reset_index()\n",
    "atraso_destino=pd.pivot_table(atraso_destino, columns=\"atraso_15\", index=\"SIGLADES\", values=0).sort_values(by=0,ascending=False)\n",
    "atraso_destino "
   ]
  },
  {
   "cell_type": "code",
   "execution_count": 41,
   "metadata": {},
   "outputs": [
    {
     "data": {
      "text/html": [
       "<div>\n",
       "<style scoped>\n",
       "    .dataframe tbody tr th:only-of-type {\n",
       "        vertical-align: middle;\n",
       "    }\n",
       "\n",
       "    .dataframe tbody tr th {\n",
       "        vertical-align: top;\n",
       "    }\n",
       "\n",
       "    .dataframe thead th {\n",
       "        text-align: right;\n",
       "    }\n",
       "</style>\n",
       "<table border=\"1\" class=\"dataframe\">\n",
       "  <thead>\n",
       "    <tr style=\"text-align: right;\">\n",
       "      <th></th>\n",
       "      <th>atraso_15</th>\n",
       "    </tr>\n",
       "    <tr>\n",
       "      <th>SIGLADES</th>\n",
       "      <th></th>\n",
       "    </tr>\n",
       "  </thead>\n",
       "  <tbody>\n",
       "    <tr>\n",
       "      <th>Antofagasta</th>\n",
       "      <td>0.161424</td>\n",
       "    </tr>\n",
       "    <tr>\n",
       "      <th>Arica</th>\n",
       "      <td>0.151888</td>\n",
       "    </tr>\n",
       "    <tr>\n",
       "      <th>Buenos Aires</th>\n",
       "      <td>0.277822</td>\n",
       "    </tr>\n",
       "    <tr>\n",
       "      <th>Calama</th>\n",
       "      <td>0.134085</td>\n",
       "    </tr>\n",
       "    <tr>\n",
       "      <th>Concepcion</th>\n",
       "      <td>0.166041</td>\n",
       "    </tr>\n",
       "    <tr>\n",
       "      <th>Iquique</th>\n",
       "      <td>0.184681</td>\n",
       "    </tr>\n",
       "    <tr>\n",
       "      <th>Lima</th>\n",
       "      <td>0.243397</td>\n",
       "    </tr>\n",
       "    <tr>\n",
       "      <th>Puerto Montt</th>\n",
       "      <td>0.187055</td>\n",
       "    </tr>\n",
       "    <tr>\n",
       "      <th>Sao Paulo</th>\n",
       "      <td>0.272065</td>\n",
       "    </tr>\n",
       "    <tr>\n",
       "      <th>Temuco</th>\n",
       "      <td>0.174523</td>\n",
       "    </tr>\n",
       "  </tbody>\n",
       "</table>\n",
       "</div>"
      ],
      "text/plain": [
       "              atraso_15\n",
       "SIGLADES               \n",
       "Antofagasta    0.161424\n",
       "Arica          0.151888\n",
       "Buenos Aires   0.277822\n",
       "Calama         0.134085\n",
       "Concepcion     0.166041\n",
       "Iquique        0.184681\n",
       "Lima           0.243397\n",
       "Puerto Montt   0.187055\n",
       "Sao Paulo      0.272065\n",
       "Temuco         0.174523"
      ]
     },
     "execution_count": 41,
     "metadata": {},
     "output_type": "execute_result"
    }
   ],
   "source": [
    "#Filtro Destinos mas representativos\n",
    "values=[\"Antofagasta\",\"Buenos Aires\",\"Calama\",\"Lima\",\"Puerto Montt\",\"Concepcion\",\"Iquique\",\"Sao Paulo\",\"Temuco\",\"Arica\"]\n",
    "filtro=base[base.SIGLADES.isin(values)]\n",
    "filtro.pivot_table(index = \"SIGLADES\", values = \"atraso_15\")\n"
   ]
  },
  {
   "cell_type": "code",
   "execution_count": 67,
   "metadata": {},
   "outputs": [
    {
     "data": {
      "text/plain": [
       "<BarContainer object of 10 artists>"
      ]
     },
     "execution_count": 67,
     "metadata": {},
     "output_type": "execute_result"
    },
    {
     "data": {
      "image/png": "[encoded data removed]",
      "text/plain": [
       "<Figure size 1080x504 with 1 Axes>"
      ]
     },
     "metadata": {
      "needs_background": "light"
     },
     "output_type": "display_data"
    }
   ],
   "source": [
    "destino = [\"Antofagasta\", \"Arica\", \"Buenos Aires\", \"Calama\", \"Concepcion\",\"Iquique\", \"Lima\", \"Puerto Montt\",\"Sao Paulo\",\"Temuco\"]\n",
    "valores= [0.161424,0.151888,0.277822,0.134085,0.166041,0.184681,0.243397,0.187055,0.272065,0.174523]\n",
    "pyplot.figure(figsize=(15,7))\n",
    "pyplot.title(\"Tasa de Atraso de vuelos por Destino\")\n",
    "pyplot.bar(destino, height=valores, color=\"cyan\")\n"
   ]
  },
  {
   "cell_type": "markdown",
   "metadata": {},
   "source": [
    "Conclusiones pendientes"
   ]
  },
  {
   "cell_type": "markdown",
   "metadata": {},
   "source": [
    "Atraso Vs Aerolinea"
   ]
  },
  {
   "cell_type": "code",
   "execution_count": 44,
   "metadata": {},
   "outputs": [
    {
     "data": {
      "text/html": [
       "<div>\n",
       "<style scoped>\n",
       "    .dataframe tbody tr th:only-of-type {\n",
       "        vertical-align: middle;\n",
       "    }\n",
       "\n",
       "    .dataframe tbody tr th {\n",
       "        vertical-align: top;\n",
       "    }\n",
       "\n",
       "    .dataframe thead th {\n",
       "        text-align: right;\n",
       "    }\n",
       "</style>\n",
       "<table border=\"1\" class=\"dataframe\">\n",
       "  <thead>\n",
       "    <tr style=\"text-align: right;\">\n",
       "      <th>atraso_15</th>\n",
       "      <th>0.0</th>\n",
       "      <th>1.0</th>\n",
       "    </tr>\n",
       "    <tr>\n",
       "      <th>OPERA</th>\n",
       "      <th></th>\n",
       "      <th></th>\n",
       "    </tr>\n",
       "  </thead>\n",
       "  <tbody>\n",
       "    <tr>\n",
       "      <th>Grupo LATAM</th>\n",
       "      <td>32883</td>\n",
       "      <td>7971</td>\n",
       "    </tr>\n",
       "    <tr>\n",
       "      <th>Sky Airline</th>\n",
       "      <td>11570</td>\n",
       "      <td>2728</td>\n",
       "    </tr>\n",
       "    <tr>\n",
       "      <th>Copa Air</th>\n",
       "      <td>1724</td>\n",
       "      <td>126</td>\n",
       "    </tr>\n",
       "    <tr>\n",
       "      <th>Aerolineas Argentinas</th>\n",
       "      <td>1437</td>\n",
       "      <td>512</td>\n",
       "    </tr>\n",
       "    <tr>\n",
       "      <th>Latin American Wings</th>\n",
       "      <td>995</td>\n",
       "      <td>678</td>\n",
       "    </tr>\n",
       "    <tr>\n",
       "      <th>JetSmart SPA</th>\n",
       "      <td>857</td>\n",
       "      <td>198</td>\n",
       "    </tr>\n",
       "    <tr>\n",
       "      <th>Avianca</th>\n",
       "      <td>835</td>\n",
       "      <td>317</td>\n",
       "    </tr>\n",
       "    <tr>\n",
       "      <th>American Airlines</th>\n",
       "      <td>664</td>\n",
       "      <td>93</td>\n",
       "    </tr>\n",
       "    <tr>\n",
       "      <th>Gol Trans</th>\n",
       "      <td>494</td>\n",
       "      <td>312</td>\n",
       "    </tr>\n",
       "    <tr>\n",
       "      <th>Air France</th>\n",
       "      <td>339</td>\n",
       "      <td>19</td>\n",
       "    </tr>\n",
       "    <tr>\n",
       "      <th>Delta Air</th>\n",
       "      <td>336</td>\n",
       "      <td>22</td>\n",
       "    </tr>\n",
       "    <tr>\n",
       "      <th>Air Canada</th>\n",
       "      <td>331</td>\n",
       "      <td>234</td>\n",
       "    </tr>\n",
       "    <tr>\n",
       "      <th>Aeromexico</th>\n",
       "      <td>329</td>\n",
       "      <td>22</td>\n",
       "    </tr>\n",
       "    <tr>\n",
       "      <th>Iberia</th>\n",
       "      <td>313</td>\n",
       "      <td>49</td>\n",
       "    </tr>\n",
       "    <tr>\n",
       "      <th>United Airlines</th>\n",
       "      <td>297</td>\n",
       "      <td>38</td>\n",
       "    </tr>\n",
       "    <tr>\n",
       "      <th>Oceanair Linhas Aereas</th>\n",
       "      <td>231</td>\n",
       "      <td>47</td>\n",
       "    </tr>\n",
       "    <tr>\n",
       "      <th>Alitalia</th>\n",
       "      <td>225</td>\n",
       "      <td>34</td>\n",
       "    </tr>\n",
       "    <tr>\n",
       "      <th>K.L.M.</th>\n",
       "      <td>220</td>\n",
       "      <td>31</td>\n",
       "    </tr>\n",
       "    <tr>\n",
       "      <th>British Airways</th>\n",
       "      <td>182</td>\n",
       "      <td>23</td>\n",
       "    </tr>\n",
       "    <tr>\n",
       "      <th>Qantas Airways</th>\n",
       "      <td>121</td>\n",
       "      <td>74</td>\n",
       "    </tr>\n",
       "    <tr>\n",
       "      <th>Lacsa</th>\n",
       "      <td>73</td>\n",
       "      <td>19</td>\n",
       "    </tr>\n",
       "    <tr>\n",
       "      <th>Austral</th>\n",
       "      <td>45</td>\n",
       "      <td>29</td>\n",
       "    </tr>\n",
       "    <tr>\n",
       "      <th>Plus Ultra Lineas Aereas</th>\n",
       "      <td>29</td>\n",
       "      <td>20</td>\n",
       "    </tr>\n",
       "  </tbody>\n",
       "</table>\n",
       "</div>"
      ],
      "text/plain": [
       "atraso_15                   0.0   1.0\n",
       "OPERA                                \n",
       "Grupo LATAM               32883  7971\n",
       "Sky Airline               11570  2728\n",
       "Copa Air                   1724   126\n",
       "Aerolineas Argentinas      1437   512\n",
       "Latin American Wings        995   678\n",
       "JetSmart SPA                857   198\n",
       "Avianca                     835   317\n",
       "American Airlines           664    93\n",
       "Gol Trans                   494   312\n",
       "Air France                  339    19\n",
       "Delta Air                   336    22\n",
       "Air Canada                  331   234\n",
       "Aeromexico                  329    22\n",
       "Iberia                      313    49\n",
       "United Airlines             297    38\n",
       "Oceanair Linhas Aereas      231    47\n",
       "Alitalia                    225    34\n",
       "K.L.M.                      220    31\n",
       "British Airways             182    23\n",
       "Qantas Airways              121    74\n",
       "Lacsa                        73    19\n",
       "Austral                      45    29\n",
       "Plus Ultra Lineas Aereas     29    20"
      ]
     },
     "execution_count": 44,
     "metadata": {},
     "output_type": "execute_result"
    }
   ],
   "source": [
    "atraso_aeroli=base.groupby(['atraso_15', 'OPERA']).size()\n",
    "atraso_aeroli=atraso_aeroli.reset_index()\n",
    "atraso_aeroli=pd.pivot_table(atraso_aeroli, columns=\"atraso_15\", index=\"OPERA\", values=0).sort_values(by=0,ascending=False)\n",
    "atraso_aeroli "
   ]
  },
  {
   "cell_type": "code",
   "execution_count": 47,
   "metadata": {},
   "outputs": [
    {
     "data": {
      "text/html": [
       "<div>\n",
       "<style scoped>\n",
       "    .dataframe tbody tr th:only-of-type {\n",
       "        vertical-align: middle;\n",
       "    }\n",
       "\n",
       "    .dataframe tbody tr th {\n",
       "        vertical-align: top;\n",
       "    }\n",
       "\n",
       "    .dataframe thead th {\n",
       "        text-align: right;\n",
       "    }\n",
       "</style>\n",
       "<table border=\"1\" class=\"dataframe\">\n",
       "  <thead>\n",
       "    <tr style=\"text-align: right;\">\n",
       "      <th></th>\n",
       "      <th>atraso_15</th>\n",
       "    </tr>\n",
       "    <tr>\n",
       "      <th>OPERA</th>\n",
       "      <th></th>\n",
       "    </tr>\n",
       "  </thead>\n",
       "  <tbody>\n",
       "    <tr>\n",
       "      <th>Aerolineas Argentinas</th>\n",
       "      <td>0.262699</td>\n",
       "    </tr>\n",
       "    <tr>\n",
       "      <th>Copa Air</th>\n",
       "      <td>0.068108</td>\n",
       "    </tr>\n",
       "    <tr>\n",
       "      <th>Grupo LATAM</th>\n",
       "      <td>0.195109</td>\n",
       "    </tr>\n",
       "    <tr>\n",
       "      <th>JetSmart SPA</th>\n",
       "      <td>0.187678</td>\n",
       "    </tr>\n",
       "    <tr>\n",
       "      <th>Latin American Wings</th>\n",
       "      <td>0.405260</td>\n",
       "    </tr>\n",
       "    <tr>\n",
       "      <th>Sky Airline</th>\n",
       "      <td>0.190796</td>\n",
       "    </tr>\n",
       "  </tbody>\n",
       "</table>\n",
       "</div>"
      ],
      "text/plain": [
       "                       atraso_15\n",
       "OPERA                           \n",
       "Aerolineas Argentinas   0.262699\n",
       "Copa Air                0.068108\n",
       "Grupo LATAM             0.195109\n",
       "JetSmart SPA            0.187678\n",
       "Latin American Wings    0.405260\n",
       "Sky Airline             0.190796"
      ]
     },
     "execution_count": 47,
     "metadata": {},
     "output_type": "execute_result"
    }
   ],
   "source": [
    "#Filtro Destinos mas representativos\n",
    "values=[\"Grupo LATAM\",\"Sky Airline\", \"Copa Air\", \"Aerolineas Argentinas\", \"Latin American Wings\", \"JetSmart SPA\"]\n",
    "filtro=base[base.OPERA.isin(values)]\n",
    "filtro.pivot_table(index = \"OPERA\", values = \"atraso_15\")"
   ]
  },
  {
   "cell_type": "code",
   "execution_count": 66,
   "metadata": {},
   "outputs": [
    {
     "data": {
      "text/plain": [
       "<BarContainer object of 6 artists>"
      ]
     },
     "execution_count": 66,
     "metadata": {},
     "output_type": "execute_result"
    },
    {
     "data": {
      "image/png": "[encoded data removed]",
      "text/plain": [
       "<Figure size 1080x504 with 1 Axes>"
      ]
     },
     "metadata": {
      "needs_background": "light"
     },
     "output_type": "display_data"
    }
   ],
   "source": [
    "aero = [\"Aerolineas Argentinas\", \"Copa Air\", \"Grupo LATAM\", \"JetSmart SPA\", \"Latin American Wings\",\"Sky Airline\"]\n",
    "valores= [0.262699,0.068108,0.195109,0.187678,0.405260,0.190796]\n",
    "pyplot.figure(figsize=(15,7))\n",
    "pyplot.title(\"Tasa de Atraso de vuelos por Aerolinea\")\n",
    "pyplot.bar(aero, height=valores, color=\"orange\")"
   ]
  },
  {
   "cell_type": "markdown",
   "metadata": {},
   "source": [
    "Una de las principales razones del porque Latin American Wings tiene una tasa alta de atraso en sus vuelos es debido por ser una aerolionea relativamente joven ya que sus operaciones se iniciaron en 2016, tambien por estar bajo acusaciones por la antiguedad de sus aviones y falta de mantenimiento en sus equipos y esto puede afectar en el cumplimiento de la puntualidad del despegue de sus aviones.\n",
    "\n"
   ]
  },
  {
   "cell_type": "markdown",
   "metadata": {},
   "source": [
    "Atraso Vs Mes"
   ]
  },
  {
   "cell_type": "code",
   "execution_count": 48,
   "metadata": {},
   "outputs": [
    {
     "data": {
      "text/html": [
       "<div>\n",
       "<style scoped>\n",
       "    .dataframe tbody tr th:only-of-type {\n",
       "        vertical-align: middle;\n",
       "    }\n",
       "\n",
       "    .dataframe tbody tr th {\n",
       "        vertical-align: top;\n",
       "    }\n",
       "\n",
       "    .dataframe thead th {\n",
       "        text-align: right;\n",
       "    }\n",
       "</style>\n",
       "<table border=\"1\" class=\"dataframe\">\n",
       "  <thead>\n",
       "    <tr style=\"text-align: right;\">\n",
       "      <th></th>\n",
       "      <th>atraso_15</th>\n",
       "    </tr>\n",
       "    <tr>\n",
       "      <th>MES</th>\n",
       "      <th></th>\n",
       "    </tr>\n",
       "  </thead>\n",
       "  <tbody>\n",
       "    <tr>\n",
       "      <th>1.0</th>\n",
       "      <td>0.176682</td>\n",
       "    </tr>\n",
       "    <tr>\n",
       "      <th>2.0</th>\n",
       "      <td>0.161482</td>\n",
       "    </tr>\n",
       "    <tr>\n",
       "      <th>3.0</th>\n",
       "      <td>0.124270</td>\n",
       "    </tr>\n",
       "    <tr>\n",
       "      <th>4.0</th>\n",
       "      <td>0.129482</td>\n",
       "    </tr>\n",
       "    <tr>\n",
       "      <th>5.0</th>\n",
       "      <td>0.171183</td>\n",
       "    </tr>\n",
       "    <tr>\n",
       "      <th>6.0</th>\n",
       "      <td>0.185706</td>\n",
       "    </tr>\n",
       "    <tr>\n",
       "      <th>7.0</th>\n",
       "      <td>0.312917</td>\n",
       "    </tr>\n",
       "    <tr>\n",
       "      <th>8.0</th>\n",
       "      <td>0.187010</td>\n",
       "    </tr>\n",
       "    <tr>\n",
       "      <th>9.0</th>\n",
       "      <td>0.186809</td>\n",
       "    </tr>\n",
       "    <tr>\n",
       "      <th>10.0</th>\n",
       "      <td>0.243023</td>\n",
       "    </tr>\n",
       "    <tr>\n",
       "      <th>11.0</th>\n",
       "      <td>0.212920</td>\n",
       "    </tr>\n",
       "    <tr>\n",
       "      <th>12.0</th>\n",
       "      <td>0.271891</td>\n",
       "    </tr>\n",
       "  </tbody>\n",
       "</table>\n",
       "</div>"
      ],
      "text/plain": [
       "      atraso_15\n",
       "MES            \n",
       "1.0    0.176682\n",
       "2.0    0.161482\n",
       "3.0    0.124270\n",
       "4.0    0.129482\n",
       "5.0    0.171183\n",
       "6.0    0.185706\n",
       "7.0    0.312917\n",
       "8.0    0.187010\n",
       "9.0    0.186809\n",
       "10.0   0.243023\n",
       "11.0   0.212920\n",
       "12.0   0.271891"
      ]
     },
     "execution_count": 48,
     "metadata": {},
     "output_type": "execute_result"
    }
   ],
   "source": [
    "base.pivot_table(index = \"MES\", values = \"atraso_15\")"
   ]
  },
  {
   "cell_type": "code",
   "execution_count": 43,
   "metadata": {},
   "outputs": [
    {
     "data": {
      "text/plain": [
       "<BarContainer object of 12 artists>"
      ]
     },
     "execution_count": 43,
     "metadata": {},
     "output_type": "execute_result"
    },
    {
     "data": {
      "image/png": "[encoded data removed]",
      "text/plain": [
       "<Figure size 1080x504 with 1 Axes>"
      ]
     },
     "metadata": {
      "needs_background": "light"
     },
     "output_type": "display_data"
    }
   ],
   "source": [
    "\n",
    "mes = [\"Ene\", \"Feb\", \"Mar\", \"Abr\", \"May\", \"Jun\", \"Jul\", \"Ago\", \"Sep\", \"Oct\", \"Nov\", \"Dic\"]\n",
    "valores= [0.176682, 0.161482, 0.124270, 0.129482, 0.171183, 0.185706,0.312917,0.187010,0.186809,0.243023,0.212920, 0.271891]\n",
    "pyplot.figure(figsize=(15,7))\n",
    "pyplot.title(\"Tasa de Atraso de vuelos por Mes\")\n",
    "pyplot.bar(mes, height=valores)"
   ]
  },
  {
   "cell_type": "markdown",
   "metadata": {},
   "source": [
    "segun el siguiente articulo https://www.notimerica.com/sociedad/noticia-invierno-llegado-alerta-climatologica-chile-20170714185144.html\n",
    "\n",
    "Se decreto una alerta preventiva en mas del 90% de la region por chile por lluvias, nevadas, vientos y marejadas en el mes de Julio por esta razon podemos concluir que la tasa de atraso de los vuelos es mas alta en este mes comparada con los demas meses. "
   ]
  },
  {
   "cell_type": "markdown",
   "metadata": {},
   "source": [
    "Atraso Vs Dia semana"
   ]
  },
  {
   "cell_type": "code",
   "execution_count": 49,
   "metadata": {},
   "outputs": [
    {
     "data": {
      "text/html": [
       "<div>\n",
       "<style scoped>\n",
       "    .dataframe tbody tr th:only-of-type {\n",
       "        vertical-align: middle;\n",
       "    }\n",
       "\n",
       "    .dataframe tbody tr th {\n",
       "        vertical-align: top;\n",
       "    }\n",
       "\n",
       "    .dataframe thead th {\n",
       "        text-align: right;\n",
       "    }\n",
       "</style>\n",
       "<table border=\"1\" class=\"dataframe\">\n",
       "  <thead>\n",
       "    <tr style=\"text-align: right;\">\n",
       "      <th></th>\n",
       "      <th>atraso_15</th>\n",
       "    </tr>\n",
       "    <tr>\n",
       "      <th>DIANOM</th>\n",
       "      <th></th>\n",
       "    </tr>\n",
       "  </thead>\n",
       "  <tbody>\n",
       "    <tr>\n",
       "      <th>Domingo</th>\n",
       "      <td>0.200838</td>\n",
       "    </tr>\n",
       "    <tr>\n",
       "      <th>Jueves</th>\n",
       "      <td>0.196559</td>\n",
       "    </tr>\n",
       "    <tr>\n",
       "      <th>Lunes</th>\n",
       "      <td>0.201778</td>\n",
       "    </tr>\n",
       "    <tr>\n",
       "      <th>Martes</th>\n",
       "      <td>0.196601</td>\n",
       "    </tr>\n",
       "    <tr>\n",
       "      <th>Miercoles</th>\n",
       "      <td>0.188349</td>\n",
       "    </tr>\n",
       "    <tr>\n",
       "      <th>Sabado</th>\n",
       "      <td>0.215141</td>\n",
       "    </tr>\n",
       "    <tr>\n",
       "      <th>Viernes</th>\n",
       "      <td>0.199942</td>\n",
       "    </tr>\n",
       "  </tbody>\n",
       "</table>\n",
       "</div>"
      ],
      "text/plain": [
       "           atraso_15\n",
       "DIANOM              \n",
       "Domingo     0.200838\n",
       "Jueves      0.196559\n",
       "Lunes       0.201778\n",
       "Martes      0.196601\n",
       "Miercoles   0.188349\n",
       "Sabado      0.215141\n",
       "Viernes     0.199942"
      ]
     },
     "execution_count": 49,
     "metadata": {},
     "output_type": "execute_result"
    }
   ],
   "source": [
    "base.pivot_table(index = \"DIANOM\", values = \"atraso_15\")"
   ]
  },
  {
   "cell_type": "code",
   "execution_count": 68,
   "metadata": {},
   "outputs": [
    {
     "data": {
      "text/plain": [
       "<BarContainer object of 7 artists>"
      ]
     },
     "execution_count": 68,
     "metadata": {},
     "output_type": "execute_result"
    },
    {
     "data": {
      "image/png": "[encoded data removed]",
      "text/plain": [
       "<Figure size 1080x504 with 1 Axes>"
      ]
     },
     "metadata": {
      "needs_background": "light"
     },
     "output_type": "display_data"
    }
   ],
   "source": [
    "dia = [\"Lunes\", \"Martes\", \"Miercoles\", \"Jueves\", \"Viernes\", \"Sabado\", \"Domingo\"]\n",
    "valores= [0.200838, 0.196559, 0.201778, 0.196601, 0.188349, 0.215141, 0.199942]\n",
    "pyplot.figure(figsize=(15,7))\n",
    "pyplot.title(\"Tasa de Atraso de vuelos por Dia de la Semana\")\n",
    "pyplot.bar(dia, height=valores, color=\"green\")"
   ]
  },
  {
   "cell_type": "markdown",
   "metadata": {},
   "source": [
    "Conclusiones pendientes"
   ]
  },
  {
   "cell_type": "markdown",
   "metadata": {},
   "source": [
    "Atraso Vs Temporada"
   ]
  },
  {
   "cell_type": "code",
   "execution_count": 51,
   "metadata": {},
   "outputs": [
    {
     "data": {
      "text/html": [
       "<div>\n",
       "<style scoped>\n",
       "    .dataframe tbody tr th:only-of-type {\n",
       "        vertical-align: middle;\n",
       "    }\n",
       "\n",
       "    .dataframe tbody tr th {\n",
       "        vertical-align: top;\n",
       "    }\n",
       "\n",
       "    .dataframe thead th {\n",
       "        text-align: right;\n",
       "    }\n",
       "</style>\n",
       "<table border=\"1\" class=\"dataframe\">\n",
       "  <thead>\n",
       "    <tr style=\"text-align: right;\">\n",
       "      <th>atraso_15</th>\n",
       "      <th>0.0</th>\n",
       "      <th>1.0</th>\n",
       "    </tr>\n",
       "    <tr>\n",
       "      <th>temporada_alta</th>\n",
       "      <th></th>\n",
       "      <th></th>\n",
       "    </tr>\n",
       "  </thead>\n",
       "  <tbody>\n",
       "    <tr>\n",
       "      <th>0.0</th>\n",
       "      <td>49479</td>\n",
       "      <td>11961</td>\n",
       "    </tr>\n",
       "    <tr>\n",
       "      <th>1.0</th>\n",
       "      <td>5051</td>\n",
       "      <td>1635</td>\n",
       "    </tr>\n",
       "  </tbody>\n",
       "</table>\n",
       "</div>"
      ],
      "text/plain": [
       "atraso_15         0.0    1.0\n",
       "temporada_alta              \n",
       "0.0             49479  11961\n",
       "1.0              5051   1635"
      ]
     },
     "execution_count": 51,
     "metadata": {},
     "output_type": "execute_result"
    }
   ],
   "source": [
    "atraso_tempo=base.groupby(['atraso_15', 'temporada_alta']).size()\n",
    "atraso_tempo=atraso_tempo.reset_index()\n",
    "atraso_tempo=pd.pivot_table(atraso_tempo, columns=\"atraso_15\", index=\"temporada_alta\", values=0).sort_values(by=0,ascending=False)\n",
    "atraso_tempo "
   ]
  },
  {
   "cell_type": "code",
   "execution_count": 50,
   "metadata": {},
   "outputs": [
    {
     "data": {
      "text/html": [
       "<div>\n",
       "<style scoped>\n",
       "    .dataframe tbody tr th:only-of-type {\n",
       "        vertical-align: middle;\n",
       "    }\n",
       "\n",
       "    .dataframe tbody tr th {\n",
       "        vertical-align: top;\n",
       "    }\n",
       "\n",
       "    .dataframe thead th {\n",
       "        text-align: right;\n",
       "    }\n",
       "</style>\n",
       "<table border=\"1\" class=\"dataframe\">\n",
       "  <thead>\n",
       "    <tr style=\"text-align: right;\">\n",
       "      <th></th>\n",
       "      <th>atraso_15</th>\n",
       "    </tr>\n",
       "    <tr>\n",
       "      <th>temporada_alta</th>\n",
       "      <th></th>\n",
       "    </tr>\n",
       "  </thead>\n",
       "  <tbody>\n",
       "    <tr>\n",
       "      <th>0.0</th>\n",
       "      <td>0.194678</td>\n",
       "    </tr>\n",
       "    <tr>\n",
       "      <th>1.0</th>\n",
       "      <td>0.244541</td>\n",
       "    </tr>\n",
       "  </tbody>\n",
       "</table>\n",
       "</div>"
      ],
      "text/plain": [
       "                atraso_15\n",
       "temporada_alta           \n",
       "0.0              0.194678\n",
       "1.0              0.244541"
      ]
     },
     "execution_count": 50,
     "metadata": {},
     "output_type": "execute_result"
    }
   ],
   "source": [
    "base.pivot_table(index = \"temporada_alta\", values = \"atraso_15\")"
   ]
  },
  {
   "cell_type": "code",
   "execution_count": 45,
   "metadata": {},
   "outputs": [
    {
     "data": {
      "text/plain": [
       "<BarContainer object of 2 artists>"
      ]
     },
     "execution_count": 45,
     "metadata": {},
     "output_type": "execute_result"
    },
    {
     "data": {
      "image/png": "[encoded data removed]",
      "text/plain": [
       "<Figure size 1080x504 with 1 Axes>"
      ]
     },
     "metadata": {
      "needs_background": "light"
     },
     "output_type": "display_data"
    }
   ],
   "source": [
    "temp = [\"No\", \"Si\"]\n",
    "valores= [0.194678, 0.244541]\n",
    "pyplot.figure(figsize=(15,7))\n",
    "pyplot.title(\"Tasa de Atraso de vuelos Temporada Alta\")\n",
    "pyplot.bar(temp, height=valores)"
   ]
  },
  {
   "cell_type": "markdown",
   "metadata": {},
   "source": [
    "segun el siguiente articulo https://www.notimerica.com/sociedad/noticia-invierno-llegado-alerta-climatologica-chile-20170714185144.html\n",
    "\n",
    "Se decreto una alerta preventiva en mas del 90% de la region por chile por lluvias, nevadas, vientos y marejadas en el mes de Julio por esta razon podemos concluir que la tasa de atraso de los vuelos es mas alta en temproada alta porque se tiene en cuenta los vuelos entre 15 de julio y 31 de Julio. "
   ]
  },
  {
   "cell_type": "markdown",
   "metadata": {},
   "source": [
    "Atraso Vs Tipo Vuelo"
   ]
  },
  {
   "cell_type": "code",
   "execution_count": 52,
   "metadata": {},
   "outputs": [
    {
     "data": {
      "text/html": [
       "<div>\n",
       "<style scoped>\n",
       "    .dataframe tbody tr th:only-of-type {\n",
       "        vertical-align: middle;\n",
       "    }\n",
       "\n",
       "    .dataframe tbody tr th {\n",
       "        vertical-align: top;\n",
       "    }\n",
       "\n",
       "    .dataframe thead th {\n",
       "        text-align: right;\n",
       "    }\n",
       "</style>\n",
       "<table border=\"1\" class=\"dataframe\">\n",
       "  <thead>\n",
       "    <tr style=\"text-align: right;\">\n",
       "      <th>atraso_15</th>\n",
       "      <th>0.0</th>\n",
       "      <th>1.0</th>\n",
       "    </tr>\n",
       "    <tr>\n",
       "      <th>TIPOVUELO</th>\n",
       "      <th></th>\n",
       "      <th></th>\n",
       "    </tr>\n",
       "  </thead>\n",
       "  <tbody>\n",
       "    <tr>\n",
       "      <th>N</th>\n",
       "      <td>30860</td>\n",
       "      <td>6072</td>\n",
       "    </tr>\n",
       "    <tr>\n",
       "      <th>I</th>\n",
       "      <td>23670</td>\n",
       "      <td>7524</td>\n",
       "    </tr>\n",
       "  </tbody>\n",
       "</table>\n",
       "</div>"
      ],
      "text/plain": [
       "atraso_15    0.0   1.0\n",
       "TIPOVUELO             \n",
       "N          30860  6072\n",
       "I          23670  7524"
      ]
     },
     "execution_count": 52,
     "metadata": {},
     "output_type": "execute_result"
    }
   ],
   "source": [
    "atraso_tipo=base.groupby(['atraso_15', 'TIPOVUELO']).size()\n",
    "atraso_tipo=atraso_tipo.reset_index()\n",
    "atraso_tipo=pd.pivot_table(atraso_tipo, columns=\"atraso_15\", index=\"TIPOVUELO\", values=0).sort_values(by=0,ascending=False)\n",
    "atraso_tipo "
   ]
  },
  {
   "cell_type": "code",
   "execution_count": 52,
   "metadata": {},
   "outputs": [
    {
     "data": {
      "text/html": [
       "<div>\n",
       "<style scoped>\n",
       "    .dataframe tbody tr th:only-of-type {\n",
       "        vertical-align: middle;\n",
       "    }\n",
       "\n",
       "    .dataframe tbody tr th {\n",
       "        vertical-align: top;\n",
       "    }\n",
       "\n",
       "    .dataframe thead th {\n",
       "        text-align: right;\n",
       "    }\n",
       "</style>\n",
       "<table border=\"1\" class=\"dataframe\">\n",
       "  <thead>\n",
       "    <tr style=\"text-align: right;\">\n",
       "      <th></th>\n",
       "      <th>atraso_15</th>\n",
       "    </tr>\n",
       "    <tr>\n",
       "      <th>TIPOVUELO</th>\n",
       "      <th></th>\n",
       "    </tr>\n",
       "  </thead>\n",
       "  <tbody>\n",
       "    <tr>\n",
       "      <th>I</th>\n",
       "      <td>0.24120</td>\n",
       "    </tr>\n",
       "    <tr>\n",
       "      <th>N</th>\n",
       "      <td>0.16441</td>\n",
       "    </tr>\n",
       "  </tbody>\n",
       "</table>\n",
       "</div>"
      ],
      "text/plain": [
       "           atraso_15\n",
       "TIPOVUELO           \n",
       "I            0.24120\n",
       "N            0.16441"
      ]
     },
     "execution_count": 52,
     "metadata": {},
     "output_type": "execute_result"
    }
   ],
   "source": [
    "base.pivot_table(index = \"TIPOVUELO\", values = \"atraso_15\")"
   ]
  },
  {
   "cell_type": "code",
   "execution_count": 69,
   "metadata": {},
   "outputs": [
    {
     "data": {
      "text/plain": [
       "<BarContainer object of 2 artists>"
      ]
     },
     "execution_count": 69,
     "metadata": {},
     "output_type": "execute_result"
    },
    {
     "data": {
      "image/png": "[encoded data removed]",
      "text/plain": [
       "<Figure size 1080x504 with 1 Axes>"
      ]
     },
     "metadata": {
      "needs_background": "light"
     },
     "output_type": "display_data"
    }
   ],
   "source": [
    "temp = [\"Internacional\", \"Nacional\"]\n",
    "valores= [0.24120, 0.16441]\n",
    "pyplot.figure(figsize=(15,7))\n",
    "pyplot.title(\"Tasa de Atraso de vuelos Temporada Alta\")\n",
    "pyplot.bar(temp, height=valores, color=\"green\")"
   ]
  },
  {
   "cell_type": "markdown",
   "metadata": {},
   "source": [
    "Conclusiones pendientes"
   ]
  }
 ],
 "metadata": {
  "kernelspec": {
   "display_name": "Python 3.9.12 ('base')",
   "language": "python",
   "name": "python3"
  },
  "language_info": {
   "codemirror_mode": {
    "name": "ipython",
    "version": 3
   },
   "file_extension": ".py",
   "mimetype": "text/x-python",
   "name": "python",
   "nbconvert_exporter": "python",
   "pygments_lexer": "ipython3",
   "version": "3.9.12"
  },
  "orig_nbformat": 4,
  "vscode": {
   "interpreter": {
    "hash": "e06ff7da33dc9620448857a90ad8b5f428f0d573d205a934d2841c8aee45ea32"
   }
  }
 },
 "nbformat": 4,
 "nbformat_minor": 2
}
